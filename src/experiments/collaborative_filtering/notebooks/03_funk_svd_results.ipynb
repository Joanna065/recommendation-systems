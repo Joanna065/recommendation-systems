{
 "cells": [
  {
   "cell_type": "markdown",
   "metadata": {},
   "source": [
    "# __Funk SVD matrix factorization result visualizations__"
   ]
  },
  {
   "cell_type": "markdown",
   "metadata": {
    "collapsed": "true"
   },
   "source": [
    "##### Initial setup"
   ]
  },
  {
   "cell_type": "code",
   "execution_count": null,
   "metadata": {},
   "outputs": [],
   "source": [
    "%load_ext watermark\n",
    "%load_ext autoreload"
   ]
  },
  {
   "cell_type": "code",
   "execution_count": null,
   "metadata": {},
   "outputs": [],
   "source": [
    "import pandas as pd\n",
    "import numpy as np\n",
    "import matplotlib.pyplot as plt\n",
    "import seaborn as sns\n",
    "import sys\n",
    "import pickle\n",
    "import os\n",
    "from pathlib import Path\n",
    "from pandas import option_context\n",
    "sys.path.append('../../../../')\n",
    "from src.settings import DATA_DIR, PROJECT_DIR,  RESULT_DIR\n",
    "\n",
    "CURRENT_PATH = os.path.abspath(os.path.join(os.pardir))\n",
    "print(CURRENT_PATH)\n",
    "print(DATA_DIR)\n",
    "print(RESULT_DIR)"
   ]
  },
  {
   "cell_type": "code",
   "execution_count": null,
   "metadata": {},
   "outputs": [],
   "source": [
    "import logging\n",
    "\n",
    "logging.basicConfig(level=logging.INFO)"
   ]
  },
  {
   "cell_type": "code",
   "execution_count": null,
   "metadata": {},
   "outputs": [],
   "source": [
    "from src.data_processing.visualization.plot_utils import plot_counts, plot_violin, plot_line, plot_distribution\n",
    "\n",
    "from src.data_processing.process.funk_svd_results_process import (build_spearman_drop_frame, build_true_pred_rate_frame, \n",
    "                                                                  prepare_logs_frame)\n",
    "                                                   \n",
    "    \n",
    "from src.data_processing.process.ratings_df_utils import (prepare_user_unrated_movies_table, prepare_user_predict_rated_movies,\n",
    "                                                          prepare_user_rated_genres, merge_user_rating_with_movies, \n",
    "                                                          prepare_user_rated_movies_table)\n",
    "\n",
    "from src.experiments.collaborative_filtering.funk_svd_exp import load_model\n",
    "\n",
    "from src.data_processing.dataframe_utils import (start_pipeline, drop_unnecessary_cols, expand_column, unpivot_dataframe,\n",
    "                                                remove_nan, rename_cols, reset_index)"
   ]
  },
  {
   "cell_type": "markdown",
   "metadata": {
    "collapsed": "true"
   },
   "source": [
    "##### Load data"
   ]
  },
  {
   "cell_type": "code",
   "execution_count": null,
   "metadata": {},
   "outputs": [],
   "source": [
    "MERGED_DATA_PATH = Path(DATA_DIR) / 'processed' / 'merged_ml25m_kaggle'\n",
    "MERGED_DATA_PATH"
   ]
  },
  {
   "cell_type": "code",
   "execution_count": null,
   "metadata": {},
   "outputs": [],
   "source": [
    "movies = pd.read_csv(Path(MERGED_DATA_PATH) / 'movies_merged.csv')\n",
    "ratings = pd.read_csv(Path(MERGED_DATA_PATH) /  'ratings_merged.csv', dtype={\n",
    "                                                                         'userId': np.int32,\n",
    "                                                                         'movieId': np.int32,\n",
    "                                                                         'rating': np.float32,\n",
    "                                                                         'timestamp': np.int32,\n",
    "                                                                     })"
   ]
  },
  {
   "cell_type": "code",
   "execution_count": null,
   "metadata": {},
   "outputs": [],
   "source": [
    "REPORTS_CF_DIR = Path(PROJECT_DIR, 'reports/figures/sec4_cf/funk_svd')\n",
    "REPORTS_CF_DIR"
   ]
  },
  {
   "cell_type": "code",
   "execution_count": null,
   "metadata": {},
   "outputs": [],
   "source": [
    "MODEL_DIR = Path(RESULT_DIR) / 'models' / 'funk_svd' / 'drop_rates'\n",
    "LOGS_DIR = Path(RESULT_DIR) / 'logs' / 'funk_svd' / 'drop_rates'"
   ]
  },
  {
   "cell_type": "code",
   "execution_count": null,
   "metadata": {},
   "outputs": [],
   "source": [
    "SPEARMAN_PATH = Path(LOGS_DIR) / '2020-06-01_14-58_FunkSVD_spearman-drop-rates.pkl'"
   ]
  },
  {
   "cell_type": "code",
   "execution_count": null,
   "metadata": {},
   "outputs": [],
   "source": [
    "with open(SPEARMAN_PATH, 'rb') as f:\n",
    "    results = pickle.load(f)"
   ]
  },
  {
   "cell_type": "markdown",
   "metadata": {
    "collapsed": "true"
   },
   "source": [
    "## __Learning curve__"
   ]
  },
  {
   "cell_type": "code",
   "execution_count": null,
   "metadata": {},
   "outputs": [],
   "source": [
    "exp_name = '2020-06-01_14-58_FunkSVD-45-factors-0.01-lr-0.02-reg-13-epochs-0.5-DROP_RATE.pkl'\n",
    "LOGS_PATH = Path(LOGS_DIR) / exp_name"
   ]
  },
  {
   "cell_type": "code",
   "execution_count": null,
   "metadata": {},
   "outputs": [],
   "source": [
    "with open(LOGS_PATH, 'rb') as f:\n",
    "    train_logs = pickle.load(f)"
   ]
  },
  {
   "cell_type": "code",
   "execution_count": null,
   "metadata": {},
   "outputs": [],
   "source": [
    "train_df = prepare_logs_frame(train_logs)\n",
    "train_df.head()"
   ]
  },
  {
   "cell_type": "code",
   "execution_count": null,
   "metadata": {},
   "outputs": [],
   "source": [
    "from matplotlib.ticker import MaxNLocator\n",
    "\n",
    "ax = plot_line(data=train_df, x='epoch', y='val_loss', title='Learning curve of FunkSVD model', xlabel='train epoch', \n",
    "               ylabel='mean square error')\n",
    "ax.xaxis.set_major_locator(MaxNLocator(integer=True))"
   ]
  },
  {
   "cell_type": "code",
   "execution_count": null,
   "metadata": {},
   "outputs": [],
   "source": [
    "fig = ax.get_figure()\n",
    "fig.savefig(os.path.join(REPORTS_CF_DIR, 'val_loss_curve.png'), bbox_inches = \"tight\")"
   ]
  },
  {
   "cell_type": "markdown",
   "metadata": {
    "collapsed": "true"
   },
   "source": [
    "## __Spearman correlations__"
   ]
  },
  {
   "cell_type": "code",
   "execution_count": null,
   "metadata": {},
   "outputs": [],
   "source": [
    "spearman_df_1 = build_spearman_drop_frame(results, drop_rate=0.1)\n",
    "spearman_df_3 = build_spearman_drop_frame(results, drop_rate=0.3)\n",
    "spearman_df_5 = build_spearman_drop_frame(results, drop_rate=0.5)\n",
    "spearman_df_7 = build_spearman_drop_frame(results, drop_rate=0.7)"
   ]
  },
  {
   "cell_type": "code",
   "execution_count": null,
   "metadata": {},
   "outputs": [],
   "source": [
    "spearman_df = pd.concat([spearman_df_1, spearman_df_3, spearman_df_5, spearman_df_7])"
   ]
  },
  {
   "cell_type": "code",
   "execution_count": null,
   "metadata": {},
   "outputs": [],
   "source": [
    "spearman_df.head()"
   ]
  },
  {
   "cell_type": "code",
   "execution_count": null,
   "metadata": {},
   "outputs": [],
   "source": [
    "with sns.axes_style(\"darkgrid\"):\n",
    "    g = sns.FacetGrid(spearman_df, row=\"drop_rate\", height=4, aspect=2.5)\n",
    "    g.map(sns.distplot, \"spearman_correlation\")\n",
    "    g.fig.suptitle('Spearman correlation distribution across different drop rates', y=1.005, fontsize=14.0)\n",
    "    for ax in g.axes.flatten():\n",
    "        ax.tick_params(labelbottom=True)"
   ]
  },
  {
   "cell_type": "code",
   "execution_count": null,
   "metadata": {},
   "outputs": [],
   "source": [
    "fig = g.fig\n",
    "fig.savefig(os.path.join(REPORTS_CF_DIR, 'spearman_dist_plots.png'), bbox_inches = \"tight\")"
   ]
  },
  {
   "cell_type": "markdown",
   "metadata": {
    "collapsed": "true"
   },
   "source": [
    "## __True and pred rates compare__"
   ]
  },
  {
   "cell_type": "code",
   "execution_count": null,
   "metadata": {},
   "outputs": [],
   "source": [
    "true_pred_df_1 = build_true_pred_rate_frame(results, drop_rate=0.1)\n",
    "true_pred_df_3 = build_true_pred_rate_frame(results, drop_rate=0.3)\n",
    "true_pred_df_5 = build_true_pred_rate_frame(results, drop_rate=0.5)\n",
    "true_pred_df_7 = build_true_pred_rate_frame(results, drop_rate=0.7)"
   ]
  },
  {
   "cell_type": "code",
   "execution_count": null,
   "metadata": {},
   "outputs": [],
   "source": [
    "true_pred_df = pd.concat([true_pred_df_1, true_pred_df_3, true_pred_df_5, true_pred_df_7])"
   ]
  },
  {
   "cell_type": "code",
   "execution_count": null,
   "metadata": {},
   "outputs": [],
   "source": [
    "true_pred_df.head()"
   ]
  },
  {
   "cell_type": "code",
   "execution_count": null,
   "metadata": {},
   "outputs": [],
   "source": [
    "true_pred_df.info()"
   ]
  },
  {
   "cell_type": "code",
   "execution_count": null,
   "metadata": {},
   "outputs": [],
   "source": [
    "with sns.axes_style(\"darkgrid\"):\n",
    "    g = sns.FacetGrid(true_pred_df, col=\"drop_rate\", col_wrap=2, height=6, aspect=1)\n",
    "    g.map_dataframe(sns.violinplot, x=\"true_rate\", y=\"pred_rate\", palette='viridis')\n",
    "    \n",
    "    g.fig.suptitle('True and predicted rates distribution across different drop rates', y=1.005, fontsize=14.0)"
   ]
  },
  {
   "cell_type": "code",
   "execution_count": null,
   "metadata": {},
   "outputs": [],
   "source": [
    "fig = g.fig\n",
    "fig.savefig(Path(REPORTS_CF_DIR) / 'true_pred_rate_violin_plots.png', bbox_inches = \"tight\")"
   ]
  },
  {
   "cell_type": "markdown",
   "metadata": {
    "collapsed": "true"
   },
   "source": [
    "## __Example users recommendations__"
   ]
  },
  {
   "cell_type": "code",
   "execution_count": null,
   "metadata": {},
   "outputs": [],
   "source": [
    "exp_name = '2020-05-23_20-57_FunkSVD-45-factors-0.01-lr-0.02-reg-13-epochs-True-shuffle.pkl'\n",
    "MODEL_PATH = os.path.join(MODEL_DIR, exp_name)\n",
    "LOGS_PATH = os.path.join(LOGS_DIR, exp_name)"
   ]
  },
  {
   "cell_type": "code",
   "execution_count": null,
   "metadata": {},
   "outputs": [],
   "source": [
    "with open(MODEL_PATH, 'rb') as f:\n",
    "    model_weights = pickle.load(f)"
   ]
  },
  {
   "cell_type": "code",
   "execution_count": null,
   "metadata": {},
   "outputs": [],
   "source": [
    "model = load_model(model_weights)"
   ]
  },
  {
   "cell_type": "markdown",
   "metadata": {},
   "source": [
    "##### User 847 with 2701 rate amount and rate avg =\t3.458719"
   ]
  },
  {
   "cell_type": "code",
   "execution_count": null,
   "metadata": {},
   "outputs": [],
   "source": [
    "USER_ID = 847"
   ]
  },
  {
   "cell_type": "code",
   "execution_count": null,
   "metadata": {},
   "outputs": [],
   "source": [
    "user_unrated_df = prepare_user_unrated_movies_table(ratings, USER_ID)"
   ]
  },
  {
   "cell_type": "code",
   "execution_count": null,
   "metadata": {},
   "outputs": [],
   "source": [
    "user_unrated_df.info()"
   ]
  },
  {
   "cell_type": "code",
   "execution_count": null,
   "metadata": {},
   "outputs": [],
   "source": [
    "predict_rates = model.predict(user_unrated_df)"
   ]
  },
  {
   "cell_type": "code",
   "execution_count": null,
   "metadata": {},
   "outputs": [],
   "source": [
    "user_pred_df = prepare_user_predict_rated_movies(user_unrated_df, movies, predict_rates)"
   ]
  },
  {
   "cell_type": "code",
   "execution_count": null,
   "metadata": {},
   "outputs": [],
   "source": [
    "user_pred_df.head()"
   ]
  },
  {
   "cell_type": "code",
   "execution_count": null,
   "metadata": {},
   "outputs": [],
   "source": [
    "TOP_VAL = 3.75\n",
    "\n",
    "user_top_list = user_pred_df[user_pred_df['predict_rate'] >= TOP_VAL]"
   ]
  },
  {
   "cell_type": "code",
   "execution_count": null,
   "metadata": {},
   "outputs": [],
   "source": [
    "len(user_top_list)"
   ]
  },
  {
   "cell_type": "code",
   "execution_count": null,
   "metadata": {},
   "outputs": [],
   "source": [
    "user_pred_genres = (user_top_list\n",
    "                      .pipe(start_pipeline)\n",
    "                      .pipe(drop_unnecessary_cols, columns=['plot_keywords', 'predict_rate'])\n",
    "                      .pipe(expand_column,\n",
    "                            keep_cols=['userId', 'movieId', 'title', 'release_date'], expand_col='genres')\n",
    "                      .pipe(unpivot_dataframe,\n",
    "                            keep_cols=['userId', 'movieId', 'title', 'release_date'])\n",
    "                      .pipe(drop_unnecessary_cols, columns=['variable'])\n",
    "                      .pipe(remove_nan, columns=['value'])\n",
    "                      .pipe(rename_cols, colmap_dict={'value': 'genre'})\n",
    "                      .pipe(reset_index))"
   ]
  },
  {
   "cell_type": "code",
   "execution_count": null,
   "metadata": {},
   "outputs": [],
   "source": [
    "user_rated_movies = (ratings\n",
    "                   .pipe(prepare_user_rated_movies_table, USER_ID)\n",
    "                   .pipe(merge_user_rating_with_movies, movies))\n",
    "\n",
    "user_rated_genres = (user_rated_movies\n",
    "                           .pipe(prepare_user_rated_genres))"
   ]
  },
  {
   "cell_type": "code",
   "execution_count": null,
   "metadata": {},
   "outputs": [],
   "source": [
    "user_rated_genres = user_rated_genres[user_rated_genres['rating'] >= TOP_VAL]\n",
    "user_rated_genres = user_rated_genres.drop(columns=['timestamp', 'rating'])\n",
    "user_rated_genres['status'] = [f'rated above {TOP_VAL}'] * len(user_rated_genres)\n",
    "user_pred_genres['status'] = [f'recommended - predicted rate above {TOP_VAL}'] * len(user_pred_genres)"
   ]
  },
  {
   "cell_type": "code",
   "execution_count": null,
   "metadata": {},
   "outputs": [],
   "source": [
    "len(user_rated_genres)"
   ]
  },
  {
   "cell_type": "code",
   "execution_count": null,
   "metadata": {},
   "outputs": [],
   "source": [
    "pred_rated_concat = pd.concat([user_rated_genres, user_pred_genres])"
   ]
  },
  {
   "cell_type": "code",
   "execution_count": null,
   "metadata": {},
   "outputs": [],
   "source": [
    "ax = plot_counts(pred_rated_concat, count_col='genre', hue='status', rotate=True, palette='cubehelix',\n",
    "                 title=f'Genre count between movies highly rated and recommended for user {USER_ID}')\n",
    "ax"
   ]
  },
  {
   "cell_type": "code",
   "execution_count": null,
   "metadata": {},
   "outputs": [],
   "source": [
    "fig = ax.get_figure()\n",
    "fig.savefig(os.path.join(REPORTS_CF_DIR, 'high_rate_recommend_compare.png'), bbox_inches = \"tight\")"
   ]
  }
 ],
 "metadata": {
  "kernelspec": {
   "display_name": "rec-sys",
   "language": "python",
   "name": "rec-sys"
  },
  "language_info": {
   "codemirror_mode": {
    "name": "ipython",
    "version": 3
   },
   "file_extension": ".py",
   "mimetype": "text/x-python",
   "name": "python",
   "nbconvert_exporter": "python",
   "pygments_lexer": "ipython3",
   "version": "3.8.3"
  }
 },
 "nbformat": 4,
 "nbformat_minor": 4
}
