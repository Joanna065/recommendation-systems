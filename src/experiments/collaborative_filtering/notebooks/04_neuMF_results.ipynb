{
 "cells": [
  {
   "cell_type": "markdown",
   "metadata": {},
   "source": [
    "# __Neural Matrix Factorization model results visualizations__"
   ]
  },
  {
   "cell_type": "markdown",
   "metadata": {
    "collapsed": "true"
   },
   "source": [
    "##### Initial setup"
   ]
  },
  {
   "cell_type": "code",
   "execution_count": null,
   "metadata": {},
   "outputs": [],
   "source": [
    "%load_ext watermark\n",
    "%load_ext autoreload"
   ]
  },
  {
   "cell_type": "code",
   "execution_count": null,
   "metadata": {},
   "outputs": [],
   "source": [
    "%autoreload 2\n",
    "%watermark -v -n -m -p numpy,pandas,tensorflow,seaborn"
   ]
  },
  {
   "cell_type": "code",
   "execution_count": null,
   "metadata": {},
   "outputs": [],
   "source": [
    "import pandas as pd\n",
    "import numpy as np\n",
    "import matplotlib.pyplot as plt\n",
    "import seaborn as sns\n",
    "import recmetrics\n",
    "import sys\n",
    "import os\n",
    "import pickle\n",
    "from scipy.stats import spearmanr\n",
    "from pathlib import Path\n",
    "sys.path.append('../../../../')\n",
    "from src.settings import DATA_DIR, PROJECT_DIR, RESULT_DIR\n",
    "\n",
    "CURRENT_PATH = os.path.abspath(os.path.join(os.pardir))\n",
    "print(CURRENT_PATH)\n",
    "print(DATA_DIR)\n",
    "print(RESULT_DIR)"
   ]
  },
  {
   "cell_type": "code",
   "execution_count": null,
   "metadata": {},
   "outputs": [],
   "source": [
    "import logging\n",
    "\n",
    "logging.basicConfig(level=logging.INFO)"
   ]
  },
  {
   "cell_type": "code",
   "execution_count": null,
   "metadata": {},
   "outputs": [],
   "source": [
    "from src.data_processing.visualization.plot_utils import plot_counts, plot_violin, plot_line, plot_distribution\n",
    "\n",
    "from src.data_processing.dataframe_utils import (start_pipeline, drop_unnecessary_cols, expand_column, unpivot_dataframe,\n",
    "                                                remove_nan, rename_cols, reset_index)\n",
    "\n",
    "from src.data_processing.process.ratings_df_utils import (prepare_user_unrated_movies_table, prepare_user_predict_rated_movies,\n",
    "                                                          prepare_user_rated_genres, merge_user_rating_with_movies, prepare_user_rated_movies_table)\n",
    "\n",
    "from src.experiments.collaborative_filtering.neumf_params import get_params\n",
    "\n",
    "from src.models.collaborative_filtering.neural_mf import F1Score, Precision, Recall, create_model"
   ]
  },
  {
   "cell_type": "markdown",
   "metadata": {
    "collapsed": "true"
   },
   "source": [
    "##### Load data "
   ]
  },
  {
   "cell_type": "code",
   "execution_count": null,
   "metadata": {},
   "outputs": [],
   "source": [
    "MERGED_DATA_PATH = os.path.join(DATA_DIR, 'processed', 'merged_ml25m_kaggle')"
   ]
  },
  {
   "cell_type": "code",
   "execution_count": null,
   "metadata": {},
   "outputs": [],
   "source": [
    "ratings = pd.read_csv(os.path.join(MERGED_DATA_PATH, 'ratings_merged.csv'))\n",
    "movies = pd.read_csv(os.path.join(MERGED_DATA_PATH, 'movies_merged.csv'))"
   ]
  },
  {
   "cell_type": "code",
   "execution_count": null,
   "metadata": {},
   "outputs": [],
   "source": [
    "num_movies = np.unique(ratings['movieId'].values).size\n",
    "num_users = np.unique(ratings['userId'].values).size"
   ]
  },
  {
   "cell_type": "code",
   "execution_count": null,
   "metadata": {},
   "outputs": [],
   "source": [
    "REPORTS_CF_DIR = os.path.join(PROJECT_DIR, 'reports/figures/sec4_cf/neuMF')\n",
    "Path(REPORTS_CF_DIR).mkdir(parents=True, exist_ok=True)\n",
    "REPORTS_CF_DIR"
   ]
  },
  {
   "cell_type": "code",
   "execution_count": null,
   "metadata": {},
   "outputs": [],
   "source": [
    "MODEL_DIR = os.path.join(RESULT_DIR, 'checkpoints')\n",
    "LOGS_DIR = os.path.join(RESULT_DIR, 'logs/neural_mf')"
   ]
  },
  {
   "cell_type": "markdown",
   "metadata": {
    "collapsed": "true"
   },
   "source": [
    "## __NeuFM model (301 epochs)__"
   ]
  },
  {
   "cell_type": "code",
   "execution_count": null,
   "metadata": {},
   "outputs": [],
   "source": [
    "MODEL_NAME = '2020-05-31_17-18_NeuFM'"
   ]
  },
  {
   "cell_type": "code",
   "execution_count": null,
   "metadata": {},
   "outputs": [],
   "source": [
    "MODEL_WEIGHTS_PATH = os.path.join(MODEL_DIR, MODEL_NAME, 'model_weights.ckpt')\n",
    "LOGS_PATH = os.path.join(LOGS_DIR, MODEL_NAME)"
   ]
  },
  {
   "cell_type": "code",
   "execution_count": null,
   "metadata": {},
   "outputs": [],
   "source": [
    "with open(LOGS_PATH + '/spearman.pkl', 'rb') as f:\n",
    "    results = pickle.load(f)"
   ]
  },
  {
   "cell_type": "markdown",
   "metadata": {},
   "source": [
    "#### __Spearman and true/pred rates distribution comparision__"
   ]
  },
  {
   "cell_type": "code",
   "execution_count": null,
   "metadata": {},
   "outputs": [],
   "source": [
    "pred_rates = np.clip(results['pred_rates'].flatten(), 0.5, 5.0)\n",
    "true_rates = results['true_rates']"
   ]
  },
  {
   "cell_type": "code",
   "execution_count": null,
   "metadata": {},
   "outputs": [],
   "source": [
    "len(pred_rates)"
   ]
  },
  {
   "cell_type": "code",
   "execution_count": null,
   "metadata": {},
   "outputs": [],
   "source": [
    "np.mean(pred_rates)"
   ]
  },
  {
   "cell_type": "code",
   "execution_count": null,
   "metadata": {},
   "outputs": [],
   "source": [
    "recmetrics.mse(true_rates, pred_rates)"
   ]
  },
  {
   "cell_type": "code",
   "execution_count": null,
   "metadata": {},
   "outputs": [],
   "source": [
    "recmetrics.rmse(true_rates, pred_rates)"
   ]
  },
  {
   "cell_type": "code",
   "execution_count": null,
   "metadata": {},
   "outputs": [],
   "source": [
    "spearmanr(true_rates, pred_rates)"
   ]
  },
  {
   "cell_type": "code",
   "execution_count": null,
   "metadata": {},
   "outputs": [],
   "source": [
    "ax = plot_violin(x=true_rates, y=pred_rates, title='True and predicted rates comparision on test data', data=None, palette='viridis')"
   ]
  },
  {
   "cell_type": "code",
   "execution_count": null,
   "metadata": {},
   "outputs": [],
   "source": [
    "fig = ax.get_figure()\n",
    "fig.savefig(os.path.join(REPORTS_CF_DIR, 'true_pred_test_compare.png'), bbox_inches = \"tight\")"
   ]
  },
  {
   "cell_type": "markdown",
   "metadata": {},
   "source": [
    "#### __Example users recommendation__"
   ]
  },
  {
   "cell_type": "code",
   "execution_count": null,
   "metadata": {},
   "outputs": [],
   "source": [
    "params = get_params(num_users=num_users, num_items=num_movies)\n",
    "model = create_model(params)"
   ]
  },
  {
   "cell_type": "code",
   "execution_count": null,
   "metadata": {},
   "outputs": [],
   "source": [
    "model.load_weights(MODEL_WEIGHTS_PATH)"
   ]
  },
  {
   "cell_type": "markdown",
   "metadata": {},
   "source": [
    "##### User 847 with 2701 rate amount and rate avg =\t3.458719"
   ]
  },
  {
   "cell_type": "code",
   "execution_count": null,
   "metadata": {},
   "outputs": [],
   "source": [
    "USER_ID = 847"
   ]
  },
  {
   "cell_type": "code",
   "execution_count": null,
   "metadata": {},
   "outputs": [],
   "source": [
    "user_unrated_df = prepare_user_unrated_movies_table(ratings, USER_ID)"
   ]
  },
  {
   "cell_type": "code",
   "execution_count": null,
   "metadata": {},
   "outputs": [],
   "source": [
    "user_unrated_df.head()"
   ]
  },
  {
   "cell_type": "code",
   "execution_count": null,
   "metadata": {},
   "outputs": [],
   "source": [
    "user_unrated_df.info()"
   ]
  },
  {
   "cell_type": "code",
   "execution_count": null,
   "metadata": {},
   "outputs": [],
   "source": [
    "predict_rates = model.predict([user_unrated_df['u_id'].values, user_unrated_df['i_id'].values])"
   ]
  },
  {
   "cell_type": "code",
   "execution_count": null,
   "metadata": {},
   "outputs": [],
   "source": [
    "predict_rates = np.clip(predict_rates, 0.5, 5.0)"
   ]
  },
  {
   "cell_type": "code",
   "execution_count": null,
   "metadata": {},
   "outputs": [],
   "source": [
    "np.max(predict_rates)"
   ]
  },
  {
   "cell_type": "code",
   "execution_count": null,
   "metadata": {},
   "outputs": [],
   "source": [
    "np.min(predict_rates)"
   ]
  },
  {
   "cell_type": "code",
   "execution_count": null,
   "metadata": {},
   "outputs": [],
   "source": [
    "user_pred_df = prepare_user_predict_rated_movies(user_unrated_df, movies, predict_rates)"
   ]
  },
  {
   "cell_type": "code",
   "execution_count": null,
   "metadata": {},
   "outputs": [],
   "source": [
    "user_pred_df.head()"
   ]
  },
  {
   "cell_type": "code",
   "execution_count": null,
   "metadata": {},
   "outputs": [],
   "source": [
    "TOP_VAL = 3.75\n",
    "\n",
    "user_top_list = user_pred_df[user_pred_df['predict_rate'] >= TOP_VAL]"
   ]
  },
  {
   "cell_type": "code",
   "execution_count": null,
   "metadata": {},
   "outputs": [],
   "source": [
    "len(user_top_list)"
   ]
  },
  {
   "cell_type": "code",
   "execution_count": null,
   "metadata": {},
   "outputs": [],
   "source": [
    "user_pred_genres = (user_top_list\n",
    "                      .pipe(start_pipeline)\n",
    "                      .pipe(drop_unnecessary_cols, columns=['plot_keywords', 'predict_rate'])\n",
    "                      .pipe(expand_column,\n",
    "                            keep_cols=['userId', 'movieId', 'title', 'release_date'], expand_col='genres')\n",
    "                      .pipe(unpivot_dataframe,\n",
    "                            keep_cols=['userId', 'movieId', 'title', 'release_date'])\n",
    "                      .pipe(drop_unnecessary_cols, columns=['variable'])\n",
    "                      .pipe(remove_nan, columns=['value'])\n",
    "                      .pipe(rename_cols, colmap_dict={'value': 'genre'})\n",
    "                      .pipe(reset_index))"
   ]
  },
  {
   "cell_type": "code",
   "execution_count": null,
   "metadata": {},
   "outputs": [],
   "source": [
    "user_rated_movies = (ratings\n",
    "                   .pipe(prepare_user_rated_movies_table, USER_ID)\n",
    "                   .pipe(merge_user_rating_with_movies, movies))\n",
    "\n",
    "user_rated_genres = (user_rated_movies\n",
    "                           .pipe(prepare_user_rated_genres))"
   ]
  },
  {
   "cell_type": "code",
   "execution_count": null,
   "metadata": {},
   "outputs": [],
   "source": [
    "user_rated_genres = user_rated_genres[user_rated_genres['rating'] >= TOP_VAL]\n",
    "user_rated_genres = user_rated_genres.drop(columns=['timestamp', 'rating'])\n",
    "user_rated_genres['status'] = [f'rated above {TOP_VAL}'] * len(user_rated_genres)\n",
    "user_pred_genres['status'] = [f'predicted rate above {TOP_VAL}'] * len(user_pred_genres)"
   ]
  },
  {
   "cell_type": "code",
   "execution_count": null,
   "metadata": {},
   "outputs": [],
   "source": [
    "len(user_rated_genres)"
   ]
  },
  {
   "cell_type": "code",
   "execution_count": null,
   "metadata": {},
   "outputs": [],
   "source": [
    "pred_rated_concat = pd.concat([user_rated_genres, user_pred_genres])"
   ]
  },
  {
   "cell_type": "code",
   "execution_count": null,
   "metadata": {},
   "outputs": [],
   "source": [
    "with sns.axes_style(\"darkgrid\"):\n",
    "    g = sns.FacetGrid(pred_rated_concat, row=\"status\", height=4, aspect=2.5, sharey=False, sharex=True)\n",
    "    g.map_dataframe(sns.countplot, x='genre', order=user_rated_genres['genre'].value_counts().index, palette='copper_r', saturation=0.8)\n",
    "    \n",
    "    g.fig.suptitle(f'Genre count between movies highly rated and recommended for user {USER_ID}', y=1.005, fontsize=14.0)\n",
    "    \n",
    "    for ax in g.axes.flat:\n",
    "        ax.set_xticklabels(ax.get_xticklabels(),\n",
    "                               rotation=45,\n",
    "                               horizontalalignment='right')\n",
    "        for p in ax.patches:\n",
    "            ax.annotate('{:.0f}'.format(p.get_height()),\n",
    "                        xy=(p.get_x() + p.get_width() / 2., p.get_height()),\n",
    "                        ha='center', va='center', xytext=(0, 5), textcoords='offset points')\n",
    "\n"
   ]
  },
  {
   "cell_type": "code",
   "execution_count": null,
   "metadata": {},
   "outputs": [],
   "source": [
    "fig = g.fig\n",
    "fig.savefig(os.path.join(REPORTS_CF_DIR, 'high_rate_recommend_compare.png'), bbox_inches = \"tight\")"
   ]
  }
 ],
 "metadata": {
  "kernelspec": {
   "display_name": "rec-sys",
   "language": "python",
   "name": "rec-sys"
  },
  "language_info": {
   "codemirror_mode": {
    "name": "ipython",
    "version": 3
   },
   "file_extension": ".py",
   "mimetype": "text/x-python",
   "name": "python",
   "nbconvert_exporter": "python",
   "pygments_lexer": "ipython3",
   "version": "3.8.3"
  }
 },
 "nbformat": 4,
 "nbformat_minor": 4
}
