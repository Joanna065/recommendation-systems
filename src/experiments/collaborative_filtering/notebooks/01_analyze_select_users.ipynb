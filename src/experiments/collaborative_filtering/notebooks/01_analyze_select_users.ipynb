{
 "cells": [
  {
   "cell_type": "markdown",
   "metadata": {},
   "source": [
    "# __Select users to analyse CF models prediction results__"
   ]
  },
  {
   "cell_type": "markdown",
   "metadata": {
    "collapsed": "true"
   },
   "source": [
    "##### Initial setup"
   ]
  },
  {
   "cell_type": "code",
   "execution_count": null,
   "metadata": {},
   "outputs": [],
   "source": [
    "%load_ext watermark\n",
    "%load_ext autoreload"
   ]
  },
  {
   "cell_type": "code",
   "execution_count": null,
   "metadata": {},
   "outputs": [],
   "source": [
    "%autoreload 2\n",
    "%watermark -v -n -m -p numpy,pandas,seaborn,matplotlib"
   ]
  },
  {
   "cell_type": "code",
   "execution_count": null,
   "metadata": {},
   "outputs": [],
   "source": [
    "import pandas as pd\n",
    "import numpy as np\n",
    "import seaborn as sns\n",
    "import matplotlib.pyplot as plt\n",
    "import sys\n",
    "import os\n",
    "from pathlib import Path\n",
    "from pandas import option_context\n",
    "sys.path.append('../../../../')\n",
    "from src.settings import DATA_DIR, PROJECT_DIR\n",
    "\n",
    "CURRENT_PATH = os.path.abspath(os.path.join(os.pardir))\n",
    "print(CURRENT_PATH)\n",
    "print(DATA_DIR)"
   ]
  },
  {
   "cell_type": "code",
   "execution_count": null,
   "metadata": {},
   "outputs": [],
   "source": [
    "import logging\n",
    "\n",
    "logging.basicConfig(level=logging.INFO)"
   ]
  },
  {
   "cell_type": "code",
   "execution_count": null,
   "metadata": {},
   "outputs": [],
   "source": [
    "from src.data_processing.dataframe_utils import (prepare_summary_table, start_pipeline, reset_index, \n",
    "                                                drop_unnecessary_cols, expand_column, unpivot_dataframe,\n",
    "                                                sort_values, remove_nan, rename_cols)\n",
    "\n",
    "from src.data_processing.process.ratings_df_utils import (prepare_user_unrated_movies_table, \n",
    "                                                       prepare_user_rated_movies_table, prepare_user_rated_keywords,\n",
    "                                                       merge_user_rating_with_movies, prepare_user_rated_genres)\n",
    "\n",
    "from src.data_processing.visualization.plot_utils import plot_counts, change_bars_width, plot_bar"
   ]
  },
  {
   "cell_type": "markdown",
   "metadata": {
    "collapsed": "true"
   },
   "source": [
    "##### Load data"
   ]
  },
  {
   "cell_type": "code",
   "execution_count": null,
   "metadata": {},
   "outputs": [],
   "source": [
    "MERGED_DATA_PATH = os.path.join(DATA_DIR, 'processed', 'merged_ml25m_kaggle')\n",
    "MERGED_DATA_PATH"
   ]
  },
  {
   "cell_type": "code",
   "execution_count": null,
   "metadata": {},
   "outputs": [],
   "source": [
    "movies = pd.read_csv(os.path.join(MERGED_DATA_PATH, 'movies_merged.csv'))\n",
    "ratings = pd.read_csv(os.path.join(MERGED_DATA_PATH, 'ratings_merged.csv'), \n",
    "                      dtype={'userId': np.int32,\n",
    "                             'movieId': np.int32,\n",
    "                             'rating': np.float32,\n",
    "                             'timestamp': np.int32})"
   ]
  },
  {
   "cell_type": "code",
   "execution_count": null,
   "metadata": {},
   "outputs": [],
   "source": [
    "USERS_ANALYSIS_DIR = os.path.join(PROJECT_DIR, 'reports/figures/sec2_data/usr_analysis')\n",
    "USERS_ANALYSIS_DIR"
   ]
  },
  {
   "cell_type": "markdown",
   "metadata": {
    "collapsed": "true"
   },
   "source": [
    "### __Movies__"
   ]
  },
  {
   "cell_type": "code",
   "execution_count": null,
   "metadata": {},
   "outputs": [],
   "source": [
    "movies.head(2)"
   ]
  },
  {
   "cell_type": "code",
   "execution_count": null,
   "metadata": {},
   "outputs": [],
   "source": [
    "movies.info()\n",
    "movies.describe()"
   ]
  },
  {
   "cell_type": "markdown",
   "metadata": {
    "collapsed": "true"
   },
   "source": [
    "### __Ratings__"
   ]
  },
  {
   "cell_type": "code",
   "execution_count": null,
   "metadata": {},
   "outputs": [],
   "source": [
    "ratings.head()"
   ]
  },
  {
   "cell_type": "code",
   "execution_count": null,
   "metadata": {},
   "outputs": [],
   "source": [
    "ratings.info()\n",
    "ratings.describe()"
   ]
  },
  {
   "cell_type": "code",
   "execution_count": null,
   "metadata": {},
   "outputs": [],
   "source": [
    "ratings.userId.unique().shape"
   ]
  },
  {
   "cell_type": "code",
   "execution_count": null,
   "metadata": {},
   "outputs": [],
   "source": [
    "ratings.movieId.unique().shape"
   ]
  },
  {
   "cell_type": "markdown",
   "metadata": {
    "collapsed": "true"
   },
   "source": [
    "### __User rating summary__"
   ]
  },
  {
   "cell_type": "code",
   "execution_count": null,
   "metadata": {},
   "outputs": [],
   "source": [
    "user_rating_summary = (ratings\n",
    "                       .pipe(start_pipeline)\n",
    "                       .pipe(prepare_summary_table, group_cols=['userId'], aggr_col='rating', \n",
    "                              col_1='rate_amount', col_2='rate_average')\n",
    "                       .pipe(reset_index))"
   ]
  },
  {
   "cell_type": "code",
   "execution_count": null,
   "metadata": {},
   "outputs": [],
   "source": [
    "user_rating_summary.head()"
   ]
  },
  {
   "cell_type": "code",
   "execution_count": null,
   "metadata": {},
   "outputs": [],
   "source": [
    "user_rating_summary.info()\n",
    "user_rating_summary.describe()"
   ]
  },
  {
   "cell_type": "markdown",
   "metadata": {
    "collapsed": "true"
   },
   "source": [
    "### __Choose sample users to recommend movies__"
   ]
  },
  {
   "cell_type": "code",
   "execution_count": null,
   "metadata": {},
   "outputs": [],
   "source": [
    "user_rating_summary[user_rating_summary['rate_amount'] > 1000]"
   ]
  },
  {
   "cell_type": "code",
   "execution_count": null,
   "metadata": {},
   "outputs": [],
   "source": [
    "user_rating_summary.iloc[user_rating_summary['rate_amount'].argmax(), :]"
   ]
  },
  {
   "cell_type": "code",
   "execution_count": null,
   "metadata": {},
   "outputs": [],
   "source": [
    "user_rating_summary.iloc[user_rating_summary['rate_amount'].argmin(), :]"
   ]
  },
  {
   "cell_type": "code",
   "execution_count": null,
   "metadata": {},
   "outputs": [],
   "source": [
    "user_rating_summary[user_rating_summary['rate_amount'] == 405].head()"
   ]
  },
  {
   "cell_type": "code",
   "execution_count": null,
   "metadata": {},
   "outputs": [],
   "source": [
    "user_rating_summary.iloc[user_rating_summary['rate_average'].argmax(), :]"
   ]
  },
  {
   "cell_type": "code",
   "execution_count": null,
   "metadata": {},
   "outputs": [],
   "source": [
    "user_rating_summary.iloc[user_rating_summary['rate_average'].argmin(), :]"
   ]
  },
  {
   "cell_type": "code",
   "execution_count": null,
   "metadata": {},
   "outputs": [],
   "source": [
    "rate_movies = pd.merge(ratings, movies[['movieId', 'title', 'release_date']], on='movieId')"
   ]
  },
  {
   "cell_type": "code",
   "execution_count": null,
   "metadata": {},
   "outputs": [],
   "source": [
    "rate_movies.head(2)"
   ]
  },
  {
   "cell_type": "code",
   "execution_count": null,
   "metadata": {},
   "outputs": [],
   "source": [
    "familiar_movies = rate_movies[rate_movies['title'].isin(['Iron Man', 'Iron Man 2', 'Iron Man 3', 'Pulp Fiction',\n",
    "                                                        'The Shawshank Redemption', 'Forrest Gump', \n",
    "                                                         'The Lord of the Rings: The Fellowship of the Ring'])]"
   ]
  },
  {
   "cell_type": "code",
   "execution_count": null,
   "metadata": {},
   "outputs": [],
   "source": [
    "highly_rated_familiar_movies = familiar_movies[familiar_movies['rating'] == 5.0]"
   ]
  },
  {
   "cell_type": "code",
   "execution_count": null,
   "metadata": {},
   "outputs": [],
   "source": [
    "highly_rated_familiar_movies[highly_rated_familiar_movies['userId'] == 162349]"
   ]
  },
  {
   "cell_type": "code",
   "execution_count": null,
   "metadata": {},
   "outputs": [],
   "source": [
    "user_rating_summary[user_rating_summary['userId'] == 162349]"
   ]
  },
  {
   "cell_type": "markdown",
   "metadata": {},
   "source": [
    "#### __Selected user ids__"
   ]
  },
  {
   "cell_type": "markdown",
   "metadata": {},
   "source": [
    "162349 - user who highly rated (5.0) familiar selected movies: 'Iron Man', 'Iron Man 2', 'Iron Man 3', 'Pulp Fiction', 'The Shawshank Redemption', 'Forrest Gump', 'The Lord of the Rings: The Fellowship of the Ring', \n",
    "rate_amount=674, rate_avg=4.074184\n",
    "\n",
    "72315 - with maximum rate amount (15609), rate_avg=3.18989\n",
    "\n",
    "542 - with minimum rate amount (151), rate_avg=3.582783\n",
    "\n",
    "12949 - with mean rate amount (405) and mean rate average (3.558025)\n",
    "\n",
    "12002 - with maximum rate average (5.0), rate_amount=601\n",
    "\n",
    "131800 - with minimum rate average (0.50939), rate_amount=213"
   ]
  },
  {
   "cell_type": "markdown",
   "metadata": {
    "collapsed": "true"
   },
   "source": [
    "### __User 162349 analysis - highly rated familiar films: Iron Man, Shawshank, Pulp Fiction, etc.__"
   ]
  },
  {
   "cell_type": "code",
   "execution_count": null,
   "metadata": {},
   "outputs": [],
   "source": [
    "USER_162349_DIR = os.path.join(USERS_ANALYSIS_DIR, 'user_162349')\n",
    "Path(USER_162349_DIR).mkdir(parents=True, exist_ok=True)"
   ]
  },
  {
   "cell_type": "markdown",
   "metadata": {},
   "source": [
    "#### Prepare rated movies table by user 162349"
   ]
  },
  {
   "cell_type": "code",
   "execution_count": null,
   "metadata": {},
   "outputs": [],
   "source": [
    "user_162349_rated_movies = (ratings\n",
    "                           .pipe(prepare_user_rated_movies_table, 162349)\n",
    "                           .pipe(merge_user_rating_with_movies, movies))"
   ]
  },
  {
   "cell_type": "code",
   "execution_count": null,
   "metadata": {},
   "outputs": [],
   "source": [
    "user_162349_rated_movies.head()"
   ]
  },
  {
   "cell_type": "code",
   "execution_count": null,
   "metadata": {},
   "outputs": [],
   "source": [
    "user_162349_rated_movies.info()\n",
    "user_162349_rated_movies.describe()"
   ]
  },
  {
   "cell_type": "code",
   "execution_count": null,
   "metadata": {},
   "outputs": [],
   "source": [
    "user_162349_rated_movies.to_csv(os.path.join(USER_162349_DIR, 'usr162349_rated_movies.csv'), index=False)"
   ]
  },
  {
   "cell_type": "markdown",
   "metadata": {},
   "source": [
    "#### Visualizations"
   ]
  },
  {
   "cell_type": "markdown",
   "metadata": {},
   "source": [
    "##### Movies ratings count"
   ]
  },
  {
   "cell_type": "code",
   "execution_count": null,
   "metadata": {},
   "outputs": [],
   "source": [
    "rate_countplot_162349 = plot_counts(user_162349_rated_movies, count_col='rating', figsize=(6, 6),\n",
    "                         title='Movies ratings count for user id {}'.format(162349))\n",
    "rate_countplot_162349 = change_bars_width(rate_countplot_162349, 0.55)\n",
    "rate_countplot_162349"
   ]
  },
  {
   "cell_type": "code",
   "execution_count": null,
   "metadata": {},
   "outputs": [],
   "source": [
    "fig = rate_countplot_162349.get_figure()\n",
    "fig.savefig(os.path.join(USER_162349_DIR, 'usr162349_mv_rate_amount.png'), bbox_inches = \"tight\")"
   ]
  },
  {
   "cell_type": "markdown",
   "metadata": {},
   "source": [
    "##### Genres rated"
   ]
  },
  {
   "cell_type": "code",
   "execution_count": null,
   "metadata": {},
   "outputs": [],
   "source": [
    "user_162349_rated_genres = (user_162349_rated_movies\n",
    "                           .pipe(prepare_user_rated_genres))"
   ]
  },
  {
   "cell_type": "code",
   "execution_count": null,
   "metadata": {},
   "outputs": [],
   "source": [
    "user_162349_rated_genres.head()"
   ]
  },
  {
   "cell_type": "code",
   "execution_count": null,
   "metadata": {},
   "outputs": [],
   "source": [
    "genre_countplot_162349 = plot_counts(user_162349_rated_genres, count_col='genre', y_label='rate count',\n",
    "                         title='Rate count by genre for user id {}'.format(162349), figsize=(14, 7), rotate=True)\n",
    "genre_countplot_162349"
   ]
  },
  {
   "cell_type": "code",
   "execution_count": null,
   "metadata": {},
   "outputs": [],
   "source": [
    "fig = genre_countplot_162349.get_figure()\n",
    "fig.savefig(os.path.join(USER_162349_DIR, 'usr162349_genres_rate_count.png'), bbox_inches = \"tight\")"
   ]
  },
  {
   "cell_type": "code",
   "execution_count": null,
   "metadata": {},
   "outputs": [],
   "source": [
    "user_162349_genres_rates_summary = (user_162349_rated_genres\n",
    "                                     .pipe(prepare_summary_table, group_cols=['userId', 'genre'], \n",
    "                                       aggr_col='rating', col_1='rate_amount', col_2='rate_avg')\n",
    "                                     .pipe(sort_values, sort_subset=['rate_avg'], ascending=False))"
   ]
  },
  {
   "cell_type": "code",
   "execution_count": null,
   "metadata": {},
   "outputs": [],
   "source": [
    "user_162349_genres_rates_summary.head()"
   ]
  },
  {
   "cell_type": "code",
   "execution_count": null,
   "metadata": {},
   "outputs": [],
   "source": [
    "user_162349_genres_rates_summary.info()"
   ]
  },
  {
   "cell_type": "code",
   "execution_count": null,
   "metadata": {},
   "outputs": [],
   "source": [
    "genre_barplot_162349 = plot_bar(user_162349_genres_rates_summary, x='genre', y='rate_avg',\n",
    "                      title='Ratings average by genre for user id {}'.format(162349), ann_format=\"{:.2f}\", \n",
    "                      figsize=(14, 7), rotate=True, palette=\"Greens_d\")\n",
    "ax.set_ylim([0.0, 5.0])\n",
    "genre_barplot_162349"
   ]
  },
  {
   "cell_type": "code",
   "execution_count": null,
   "metadata": {},
   "outputs": [],
   "source": [
    "fig = genre_barplot_162349.get_figure()\n",
    "fig.savefig(os.path.join(USER_162349_DIR, 'usr162349_genres_rate_avg.png'), bbox_inches = \"tight\")"
   ]
  },
  {
   "cell_type": "markdown",
   "metadata": {},
   "source": [
    "##### Keywords rated"
   ]
  },
  {
   "cell_type": "code",
   "execution_count": null,
   "metadata": {},
   "outputs": [],
   "source": [
    "user_162349_rated_keywords = (user_162349_rated_movies\n",
    "                            .pipe(prepare_user_rated_keywords))"
   ]
  },
  {
   "cell_type": "code",
   "execution_count": null,
   "metadata": {},
   "outputs": [],
   "source": [
    "user_162349_rated_keywords.head()"
   ]
  },
  {
   "cell_type": "code",
   "execution_count": null,
   "metadata": {},
   "outputs": [],
   "source": [
    "user_162349_rated_keywords.info()"
   ]
  },
  {
   "cell_type": "code",
   "execution_count": null,
   "metadata": {},
   "outputs": [],
   "source": [
    "user_162349_keyword_rates_summary = (user_162349_rated_keywords\n",
    "                                    .pipe(prepare_summary_table, group_cols=['userId', 'plot_keyword'], \n",
    "                                       aggr_col='rating', col_1='rate_amount', col_2='rate_avg')\n",
    "                                    .pipe(sort_values, sort_subset=['rate_amount'], ascending=False)\n",
    "                                    .pipe(reset_index))"
   ]
  },
  {
   "cell_type": "code",
   "execution_count": null,
   "metadata": {},
   "outputs": [],
   "source": [
    "user_162349_keyword_rates_summary.head()"
   ]
  },
  {
   "cell_type": "code",
   "execution_count": null,
   "metadata": {},
   "outputs": [],
   "source": [
    "user_162349_keyword_rates_summary.info()\n",
    "user_162349_keyword_rates_summary.describe()"
   ]
  },
  {
   "cell_type": "code",
   "execution_count": null,
   "metadata": {},
   "outputs": [],
   "source": [
    "keywords_barplot_162349 = plot_bar(user_162349_keyword_rates_summary.head(20), x='plot_keyword', y='rate_amount', \n",
    "                          title='Most frequently rated keywords for user id {}'.format(162349), ann_format=\"{:.0f}\",\n",
    "                          figsize=(14, 7), rotate=True, palette=\"Oranges_d\")\n",
    "keywords_barplot_162349"
   ]
  },
  {
   "cell_type": "code",
   "execution_count": null,
   "metadata": {},
   "outputs": [],
   "source": [
    "fig = keywords_barplot_162349.get_figure()\n",
    "fig.savefig(os.path.join(USER_162349_DIR, 'usr162349_keywords_rate_amount.png'), bbox_inches = \"tight\")"
   ]
  },
  {
   "cell_type": "markdown",
   "metadata": {
    "collapsed": "true"
   },
   "source": [
    "### __User 72315 analysis - max rate amount__"
   ]
  },
  {
   "cell_type": "code",
   "execution_count": null,
   "metadata": {},
   "outputs": [],
   "source": [
    "USER_72315_DIR = os.path.join(USERS_ANALYSIS_DIR, 'user_72315')\n",
    "Path(USER_72315_DIR).mkdir(parents=True, exist_ok=True)"
   ]
  },
  {
   "cell_type": "markdown",
   "metadata": {},
   "source": [
    "#### Prepare rated movies table"
   ]
  },
  {
   "cell_type": "code",
   "execution_count": null,
   "metadata": {},
   "outputs": [],
   "source": [
    "user_72315_rated_movies = (ratings\n",
    "                           .pipe(prepare_user_rated_movies_table, 72315)\n",
    "                           .pipe(merge_user_rating_with_movies, movies))"
   ]
  },
  {
   "cell_type": "code",
   "execution_count": null,
   "metadata": {},
   "outputs": [],
   "source": [
    "user_72315_rated_movies.head(2)"
   ]
  },
  {
   "cell_type": "code",
   "execution_count": null,
   "metadata": {},
   "outputs": [],
   "source": [
    "user_72315_rated_movies.info()\n",
    "user_72315_rated_movies.describe()"
   ]
  },
  {
   "cell_type": "code",
   "execution_count": null,
   "metadata": {},
   "outputs": [],
   "source": [
    "user_72315_rated_movies.to_csv(os.path.join(USER_72315_DIR, 'usr72315_rated_movies.csv'), index=False)"
   ]
  },
  {
   "cell_type": "markdown",
   "metadata": {},
   "source": [
    "#### Visualizations"
   ]
  },
  {
   "cell_type": "markdown",
   "metadata": {},
   "source": [
    "##### Movies rating count"
   ]
  },
  {
   "cell_type": "code",
   "execution_count": null,
   "metadata": {},
   "outputs": [],
   "source": [
    "ax = plot_counts(user_72315_rated_movies, count_col='rating', \n",
    "                 title='Movies ratings count for user id {}'.format(72315))\n",
    "ax"
   ]
  },
  {
   "cell_type": "code",
   "execution_count": null,
   "metadata": {},
   "outputs": [],
   "source": [
    "fig = ax.get_figure()\n",
    "fig.savefig(os.path.join(USER_72315_DIR, 'usr72315_mv_rate_amount.png'), bbox_inches = \"tight\")"
   ]
  },
  {
   "cell_type": "markdown",
   "metadata": {},
   "source": [
    "##### Genres rated"
   ]
  },
  {
   "cell_type": "code",
   "execution_count": null,
   "metadata": {},
   "outputs": [],
   "source": [
    "user_72315_rated_genres = (user_72315_rated_movies\n",
    "                           .pipe(prepare_user_rated_genres))"
   ]
  },
  {
   "cell_type": "code",
   "execution_count": null,
   "metadata": {},
   "outputs": [],
   "source": [
    "user_72315_rated_genres.head()"
   ]
  },
  {
   "cell_type": "code",
   "execution_count": null,
   "metadata": {},
   "outputs": [],
   "source": [
    "ax = plot_counts(user_72315_rated_genres, count_col='genre', y_label='rate count',\n",
    "                 title='Rate count by genre for user id {}'.format(72315), figsize=(14, 7), rotate=True)\n",
    "ax"
   ]
  },
  {
   "cell_type": "code",
   "execution_count": null,
   "metadata": {},
   "outputs": [],
   "source": [
    "fig = ax.get_figure()\n",
    "fig.savefig(os.path.join(USER_72315_DIR, 'usr72315_genre_rate_count.png'), bbox_inches = \"tight\")"
   ]
  },
  {
   "cell_type": "code",
   "execution_count": null,
   "metadata": {},
   "outputs": [],
   "source": [
    "user_72315_genres_rates_summary = (user_72315_rated_genres\n",
    "                                 .pipe(prepare_summary_table, group_cols=['userId', 'genre'], \n",
    "                                       aggr_col='rating', col_1='rate_amount', col_2='rate_avg')\n",
    "                                 .pipe(sort_values, sort_subset=['rate_avg'], ascending=False))"
   ]
  },
  {
   "cell_type": "code",
   "execution_count": null,
   "metadata": {},
   "outputs": [],
   "source": [
    "user_72315_genres_rates_summary.head()"
   ]
  },
  {
   "cell_type": "code",
   "execution_count": null,
   "metadata": {},
   "outputs": [],
   "source": [
    "user_72315_genres_rates_summary.info()\n",
    "user_72315_genres_rates_summary.describe()"
   ]
  },
  {
   "cell_type": "code",
   "execution_count": null,
   "metadata": {},
   "outputs": [],
   "source": [
    "ax = plot_bar(user_72315_genres_rates_summary, x='genre', y='rate_avg', \n",
    "              title='Ratings average by genre for user id {}'.format(72315), ann_format=\"{:.2f}\", \n",
    "              figsize=(14, 7), rotate=True, palette=\"Greens_d\")\n",
    "ax.set_ylim([0.0, 5.0])\n",
    "ax"
   ]
  },
  {
   "cell_type": "code",
   "execution_count": null,
   "metadata": {},
   "outputs": [],
   "source": [
    "fig = ax.get_figure()\n",
    "fig.savefig(os.path.join(USER_72315_DIR, 'usr72315_genre_rate_avg.png'), bbox_inches = \"tight\")"
   ]
  },
  {
   "cell_type": "markdown",
   "metadata": {},
   "source": [
    "##### Rated keywords"
   ]
  },
  {
   "cell_type": "code",
   "execution_count": null,
   "metadata": {},
   "outputs": [],
   "source": [
    "user_72315_rated_keywords = (user_72315_rated_movies\n",
    "                           .pipe(prepare_user_rated_keywords))"
   ]
  },
  {
   "cell_type": "code",
   "execution_count": null,
   "metadata": {},
   "outputs": [],
   "source": [
    "user_72315_rated_keywords.head()"
   ]
  },
  {
   "cell_type": "code",
   "execution_count": null,
   "metadata": {},
   "outputs": [],
   "source": [
    "user_72315_rated_keywords.info()"
   ]
  },
  {
   "cell_type": "code",
   "execution_count": null,
   "metadata": {},
   "outputs": [],
   "source": [
    "user_72315_keywords_rates_summary = (user_72315_rated_keywords\n",
    "                                 .pipe(prepare_summary_table, group_cols=['userId', 'plot_keyword'], \n",
    "                                       aggr_col='rating', col_1='rate_amount', col_2='rate_avg')\n",
    "                                 .pipe(sort_values, sort_subset=['rate_amount'], ascending=False))"
   ]
  },
  {
   "cell_type": "code",
   "execution_count": null,
   "metadata": {},
   "outputs": [],
   "source": [
    "user_72315_keywords_rates_summary.head()"
   ]
  },
  {
   "cell_type": "code",
   "execution_count": null,
   "metadata": {},
   "outputs": [],
   "source": [
    "user_72315_keywords_rates_summary.info()\n",
    "user_72315_keywords_rates_summary.describe()"
   ]
  },
  {
   "cell_type": "code",
   "execution_count": null,
   "metadata": {},
   "outputs": [],
   "source": [
    "ax = plot_bar(user_72315_keywords_rates_summary.head(20), x='plot_keyword', y='rate_amount', \n",
    "              title='Most frequently rated keywords for user id {}'.format(72315), ann_format=\"{:.0f}\",\n",
    "              figsize=(14, 7), rotate=True, palette=\"Oranges_d\")\n",
    "ax"
   ]
  },
  {
   "cell_type": "code",
   "execution_count": null,
   "metadata": {},
   "outputs": [],
   "source": [
    "fig = ax.get_figure()\n",
    "fig.savefig(os.path.join(USER_72315_DIR, 'usr72315_keywords_rate_amount.png'), bbox_inches = \"tight\")"
   ]
  },
  {
   "cell_type": "markdown",
   "metadata": {
    "collapsed": "true"
   },
   "source": [
    "### __User 542 analysis - min rate amount__"
   ]
  },
  {
   "cell_type": "code",
   "execution_count": null,
   "metadata": {},
   "outputs": [],
   "source": [
    "USER_542_DIR = os.path.join(USERS_ANALYSIS_DIR, 'user_542')\n",
    "Path(USER_542_DIR).mkdir(parents=True, exist_ok=True)"
   ]
  },
  {
   "cell_type": "markdown",
   "metadata": {},
   "source": [
    "#### Prepare rated movies table"
   ]
  },
  {
   "cell_type": "code",
   "execution_count": null,
   "metadata": {},
   "outputs": [],
   "source": [
    "user_542_rated_movies = (ratings\n",
    "                           .pipe(prepare_user_rated_movies_table, 542)\n",
    "                           .pipe(merge_user_rating_with_movies, movies))"
   ]
  },
  {
   "cell_type": "code",
   "execution_count": null,
   "metadata": {},
   "outputs": [],
   "source": [
    "user_542_rated_movies.head(2)"
   ]
  },
  {
   "cell_type": "code",
   "execution_count": null,
   "metadata": {},
   "outputs": [],
   "source": [
    "user_542_rated_movies.info()\n",
    "user_542_rated_movies.describe()"
   ]
  },
  {
   "cell_type": "code",
   "execution_count": null,
   "metadata": {},
   "outputs": [],
   "source": [
    "user_542_rated_movies.to_csv(os.path.join(USER_542_DIR, 'usr542_rated_movies.csv'), index=False)"
   ]
  },
  {
   "cell_type": "markdown",
   "metadata": {},
   "source": [
    "#### Visualizations"
   ]
  },
  {
   "cell_type": "markdown",
   "metadata": {},
   "source": [
    "##### Movies rating"
   ]
  },
  {
   "cell_type": "code",
   "execution_count": null,
   "metadata": {},
   "outputs": [],
   "source": [
    "ax = plot_counts(user_542_rated_movies, count_col='rating', \n",
    "                 title='Movies ratings count for user id {}'.format(542))\n",
    "ax"
   ]
  },
  {
   "cell_type": "code",
   "execution_count": null,
   "metadata": {},
   "outputs": [],
   "source": [
    "fig = ax.get_figure()\n",
    "fig.savefig(os.path.join(USER_542_DIR, 'usr542_mv_rate_amount.png'), bbox_inches = \"tight\")"
   ]
  },
  {
   "cell_type": "markdown",
   "metadata": {},
   "source": [
    "##### Genres rated"
   ]
  },
  {
   "cell_type": "code",
   "execution_count": null,
   "metadata": {},
   "outputs": [],
   "source": [
    "user_542_rated_genres = (user_542_rated_movies\n",
    "                        .pipe(prepare_user_rated_genres))"
   ]
  },
  {
   "cell_type": "code",
   "execution_count": null,
   "metadata": {},
   "outputs": [],
   "source": [
    "user_542_rated_genres.head()"
   ]
  },
  {
   "cell_type": "code",
   "execution_count": null,
   "metadata": {},
   "outputs": [],
   "source": [
    "ax = plot_counts(user_542_rated_genres, count_col='genre', y_label='rate count',\n",
    "                 title='Rate count by genre for user id {}'.format(542), figsize=(14, 7), rotate=True)\n",
    "ax"
   ]
  },
  {
   "cell_type": "code",
   "execution_count": null,
   "metadata": {},
   "outputs": [],
   "source": [
    "fig = ax.get_figure()\n",
    "fig.savefig(os.path.join(USER_542_DIR, 'usr542_genre_rate_count.png'), bbox_inches = \"tight\")"
   ]
  },
  {
   "cell_type": "code",
   "execution_count": null,
   "metadata": {},
   "outputs": [],
   "source": [
    "user_542_genres_rates_summary = (user_542_rated_genres\n",
    "                                 .pipe(prepare_summary_table, group_cols=['userId', 'genre'], \n",
    "                                       aggr_col='rating', col_1='rate_amount', col_2='rate_avg')\n",
    "                                 .pipe(sort_values, sort_subset=['rate_avg'], ascending=False))"
   ]
  },
  {
   "cell_type": "code",
   "execution_count": null,
   "metadata": {},
   "outputs": [],
   "source": [
    "user_542_genres_rates_summary.head()"
   ]
  },
  {
   "cell_type": "code",
   "execution_count": null,
   "metadata": {},
   "outputs": [],
   "source": [
    "user_542_genres_rates_summary.info()\n",
    "user_542_genres_rates_summary.describe()"
   ]
  },
  {
   "cell_type": "code",
   "execution_count": null,
   "metadata": {},
   "outputs": [],
   "source": [
    "ax = plot_bar(user_542_genres_rates_summary, x='genre', y='rate_avg', \n",
    "              title='Ratings average by genre for user id {}'.format(542), ann_format=\"{:.2f}\", \n",
    "              figsize=(14, 7), rotate=True, palette=\"Greens_d\")\n",
    "ax.set_ylim([0.0, 5.0])\n",
    "ax"
   ]
  },
  {
   "cell_type": "code",
   "execution_count": null,
   "metadata": {},
   "outputs": [],
   "source": [
    "fig = ax.get_figure()\n",
    "fig.savefig(os.path.join(USER_542_DIR, 'usr542_genre_rate_avg.png'), bbox_inches = \"tight\")"
   ]
  },
  {
   "cell_type": "markdown",
   "metadata": {},
   "source": [
    "##### __Keywords rated__"
   ]
  },
  {
   "cell_type": "code",
   "execution_count": null,
   "metadata": {},
   "outputs": [],
   "source": [
    "user_542_rated_keywords = (user_542_rated_movies\n",
    "                           .pipe(prepare_user_rated_keywords))"
   ]
  },
  {
   "cell_type": "code",
   "execution_count": null,
   "metadata": {},
   "outputs": [],
   "source": [
    "user_542_rated_keywords.head()"
   ]
  },
  {
   "cell_type": "code",
   "execution_count": null,
   "metadata": {},
   "outputs": [],
   "source": [
    "user_542_rated_keywords.info()"
   ]
  },
  {
   "cell_type": "code",
   "execution_count": null,
   "metadata": {},
   "outputs": [],
   "source": [
    "user_542_keywords_rates_summary = (user_542_rated_keywords\n",
    "                                 .pipe(prepare_summary_table, group_cols=['userId', 'plot_keyword'], \n",
    "                                       aggr_col='rating', col_1='rate_amount', col_2='rate_avg')\n",
    "                                 .pipe(sort_values, sort_subset=['rate_amount'], ascending=False))"
   ]
  },
  {
   "cell_type": "code",
   "execution_count": null,
   "metadata": {},
   "outputs": [],
   "source": [
    "user_542_keywords_rates_summary.head()"
   ]
  },
  {
   "cell_type": "code",
   "execution_count": null,
   "metadata": {},
   "outputs": [],
   "source": [
    "user_542_keywords_rates_summary.info()\n",
    "user_542_keywords_rates_summary.describe()"
   ]
  },
  {
   "cell_type": "code",
   "execution_count": null,
   "metadata": {},
   "outputs": [],
   "source": [
    "ax = plot_bar(user_542_keywords_rates_summary.head(20), x='plot_keyword', y='rate_amount', \n",
    "              title='Most frequently rated keywords for user id {}'.format(542), ann_format=\"{:.0f}\",\n",
    "              figsize=(14, 7), rotate=True, palette=\"Oranges_d\")\n",
    "ax"
   ]
  },
  {
   "cell_type": "code",
   "execution_count": null,
   "metadata": {},
   "outputs": [],
   "source": [
    "fig = ax.get_figure()\n",
    "fig.savefig(os.path.join(USER_542_DIR, 'usr542_keywords_rate_amount.png'), bbox_inches = \"tight\")"
   ]
  },
  {
   "cell_type": "markdown",
   "metadata": {
    "collapsed": "true"
   },
   "source": [
    "### __User 12949 analysis - mean rate amount, mean rate avg__"
   ]
  },
  {
   "cell_type": "code",
   "execution_count": null,
   "metadata": {},
   "outputs": [],
   "source": [
    "USER_12949_DIR = os.path.join(USERS_ANALYSIS_DIR, 'user_12949')\n",
    "Path(USER_12949_DIR).mkdir(parents=True, exist_ok=True)"
   ]
  },
  {
   "cell_type": "markdown",
   "metadata": {},
   "source": [
    "#### __Prepare rated movies table__"
   ]
  },
  {
   "cell_type": "code",
   "execution_count": null,
   "metadata": {},
   "outputs": [],
   "source": [
    "user_12949_rated_movies = (ratings\n",
    "                           .pipe(prepare_user_rated_movies_table, 12949)\n",
    "                           .pipe(merge_user_rating_with_movies, movies))"
   ]
  },
  {
   "cell_type": "code",
   "execution_count": null,
   "metadata": {},
   "outputs": [],
   "source": [
    "user_12949_rated_movies.head(2)"
   ]
  },
  {
   "cell_type": "code",
   "execution_count": null,
   "metadata": {},
   "outputs": [],
   "source": [
    "user_12949_rated_movies.info()\n",
    "user_12949_rated_movies.describe()"
   ]
  },
  {
   "cell_type": "code",
   "execution_count": null,
   "metadata": {},
   "outputs": [],
   "source": [
    "user_12949_rated_movies.to_csv(os.path.join(USER_12949_DIR, 'usr12949_rated_movies.csv'), index=False)"
   ]
  },
  {
   "cell_type": "markdown",
   "metadata": {},
   "source": [
    "#### __Visualizations__"
   ]
  },
  {
   "cell_type": "markdown",
   "metadata": {},
   "source": [
    "##### Movies ratings count"
   ]
  },
  {
   "cell_type": "code",
   "execution_count": null,
   "metadata": {},
   "outputs": [],
   "source": [
    "ax = plot_counts(user_12949_rated_movies, count_col='rating', \n",
    "                 title='Movies ratings count for user id {}'.format(12949))\n",
    "ax"
   ]
  },
  {
   "cell_type": "code",
   "execution_count": null,
   "metadata": {},
   "outputs": [],
   "source": [
    "fig = ax.get_figure()\n",
    "fig.savefig(os.path.join(USER_12949_DIR, 'usr12949_mv_rate_amount.png'), bbox_inches = \"tight\")"
   ]
  },
  {
   "cell_type": "markdown",
   "metadata": {},
   "source": [
    "##### Genres rated"
   ]
  },
  {
   "cell_type": "code",
   "execution_count": null,
   "metadata": {},
   "outputs": [],
   "source": [
    "user_12949_rated_genres = (user_12949_rated_movies\n",
    "                          .pipe(prepare_user_rated_genres))"
   ]
  },
  {
   "cell_type": "code",
   "execution_count": null,
   "metadata": {},
   "outputs": [],
   "source": [
    "user_12949_rated_genres.head()"
   ]
  },
  {
   "cell_type": "code",
   "execution_count": null,
   "metadata": {},
   "outputs": [],
   "source": [
    "ax = plot_counts(user_12949_rated_genres, count_col='genre', y_label='rate count',\n",
    "                 title='Rate count by genre for user id {}'.format(12949), figsize=(14, 7), rotate=True)\n",
    "ax"
   ]
  },
  {
   "cell_type": "code",
   "execution_count": null,
   "metadata": {},
   "outputs": [],
   "source": [
    "fig = ax.get_figure()\n",
    "fig.savefig(os.path.join(USER_12949_DIR, 'usr12949_genre_rate_count.png'), bbox_inches = \"tight\")"
   ]
  },
  {
   "cell_type": "code",
   "execution_count": null,
   "metadata": {},
   "outputs": [],
   "source": [
    "user_12949_genres_rates_summary = (user_12949_rated_genres\n",
    "                                 .pipe(prepare_summary_table, group_cols=['userId', 'genre'], \n",
    "                                       aggr_col='rating', col_1='rate_amount', col_2='rate_avg')\n",
    "                                 .pipe(sort_values, sort_subset=['rate_avg'], ascending=False))"
   ]
  },
  {
   "cell_type": "code",
   "execution_count": null,
   "metadata": {},
   "outputs": [],
   "source": [
    "user_12949_genres_rates_summary.head()"
   ]
  },
  {
   "cell_type": "code",
   "execution_count": null,
   "metadata": {},
   "outputs": [],
   "source": [
    "user_12949_genres_rates_summary.info()\n",
    "user_12949_genres_rates_summary.describe()"
   ]
  },
  {
   "cell_type": "code",
   "execution_count": null,
   "metadata": {},
   "outputs": [],
   "source": [
    "ax = plot_bar(user_12949_genres_rates_summary, x='genre', y='rate_avg', \n",
    "              title='Ratings average by genre for user id {}'.format(12949), ann_format=\"{:.2f}\", \n",
    "              figsize=(14, 7), rotate=True, palette=\"Greens_d\")\n",
    "ax.set_ylim([0.0, 5.0])\n",
    "ax"
   ]
  },
  {
   "cell_type": "code",
   "execution_count": null,
   "metadata": {},
   "outputs": [],
   "source": [
    "fig = ax.get_figure()\n",
    "fig.savefig(os.path.join(USER_12949_DIR, 'usr12949_genre_rate_avg.png'), bbox_inches = \"tight\")"
   ]
  },
  {
   "cell_type": "markdown",
   "metadata": {},
   "source": [
    "##### Keywords rated"
   ]
  },
  {
   "cell_type": "code",
   "execution_count": null,
   "metadata": {},
   "outputs": [],
   "source": [
    "user_12949_rated_keywords = (user_12949_rated_movies\n",
    "                           .pipe(prepare_user_rated_keywords))"
   ]
  },
  {
   "cell_type": "code",
   "execution_count": null,
   "metadata": {},
   "outputs": [],
   "source": [
    "user_12949_rated_keywords.head()"
   ]
  },
  {
   "cell_type": "code",
   "execution_count": null,
   "metadata": {},
   "outputs": [],
   "source": [
    "user_12949_rated_keywords.info()"
   ]
  },
  {
   "cell_type": "code",
   "execution_count": null,
   "metadata": {},
   "outputs": [],
   "source": [
    "user_12949_keywords_rates_summary = (user_12949_rated_keywords\n",
    "                                     .pipe(prepare_summary_table, group_cols=['userId', 'plot_keyword'], \n",
    "                                       aggr_col='rating', col_1='rate_amount', col_2='rate_avg')\n",
    "                                     .pipe(sort_values, sort_subset=['rate_amount'], ascending=False))"
   ]
  },
  {
   "cell_type": "code",
   "execution_count": null,
   "metadata": {},
   "outputs": [],
   "source": [
    "user_12949_keywords_rates_summary.head()"
   ]
  },
  {
   "cell_type": "code",
   "execution_count": null,
   "metadata": {},
   "outputs": [],
   "source": [
    "user_12949_keywords_rates_summary.info()\n",
    "user_12949_keywords_rates_summary.describe()"
   ]
  },
  {
   "cell_type": "code",
   "execution_count": null,
   "metadata": {},
   "outputs": [],
   "source": [
    "ax = plot_bar(user_12949_keywords_rates_summary.head(20), x='plot_keyword', y='rate_amount', \n",
    "              title='Most frequently rated keywords for user id {}'.format(12949), ann_format=\"{:.0f}\",\n",
    "              figsize=(14, 7), rotate=True, palette=\"Oranges_d\")\n",
    "ax"
   ]
  },
  {
   "cell_type": "code",
   "execution_count": null,
   "metadata": {},
   "outputs": [],
   "source": [
    "fig = ax.get_figure()\n",
    "fig.savefig(os.path.join(USER_12949_DIR, 'usr12949_keywords_rate_amount.png'), bbox_inches = \"tight\")"
   ]
  },
  {
   "cell_type": "markdown",
   "metadata": {
    "collapsed": "true"
   },
   "source": [
    "### __User 12002 analysis - max rate avg__"
   ]
  },
  {
   "cell_type": "code",
   "execution_count": null,
   "metadata": {},
   "outputs": [],
   "source": [
    "USER_12002_DIR = os.path.join(USERS_ANALYSIS_DIR, 'user_12002')\n",
    "Path(USER_12002_DIR).mkdir(parents=True, exist_ok=True)"
   ]
  },
  {
   "cell_type": "markdown",
   "metadata": {},
   "source": [
    "#### __Prepare rated movies table__"
   ]
  },
  {
   "cell_type": "code",
   "execution_count": null,
   "metadata": {},
   "outputs": [],
   "source": [
    "user_12002_rated_movies = (ratings\n",
    "                           .pipe(prepare_user_rated_movies_table, 12002)\n",
    "                           .pipe(merge_user_rating_with_movies, movies))"
   ]
  },
  {
   "cell_type": "code",
   "execution_count": null,
   "metadata": {},
   "outputs": [],
   "source": [
    "user_12002_rated_movies.head(2)"
   ]
  },
  {
   "cell_type": "code",
   "execution_count": null,
   "metadata": {},
   "outputs": [],
   "source": [
    "user_12002_rated_movies.info()\n",
    "user_12002_rated_movies.describe()"
   ]
  },
  {
   "cell_type": "code",
   "execution_count": null,
   "metadata": {},
   "outputs": [],
   "source": [
    "user_12002_rated_movies.to_csv(os.path.join(USER_12002_DIR, 'usr12002_rated_movies.csv'), index=False)"
   ]
  },
  {
   "cell_type": "markdown",
   "metadata": {},
   "source": [
    "#### __VIsualizations__"
   ]
  },
  {
   "cell_type": "markdown",
   "metadata": {},
   "source": [
    "##### Movies rating count"
   ]
  },
  {
   "cell_type": "code",
   "execution_count": null,
   "metadata": {},
   "outputs": [],
   "source": [
    "ax = plot_counts(user_12002_rated_movies, count_col='rating', \n",
    "                 title='Movies ratings count for user id {}'.format(12002), figsize=(4,6))\n",
    "ax = change_bars_width(ax, .35)\n",
    "ax"
   ]
  },
  {
   "cell_type": "code",
   "execution_count": null,
   "metadata": {},
   "outputs": [],
   "source": [
    "fig = ax.get_figure()\n",
    "fig.savefig(os.path.join(USER_12002_DIR, 'usr12002_mv_rate_amount.png'), bbox_inches = \"tight\")"
   ]
  },
  {
   "cell_type": "markdown",
   "metadata": {},
   "source": [
    "##### Genres rated"
   ]
  },
  {
   "cell_type": "code",
   "execution_count": null,
   "metadata": {},
   "outputs": [],
   "source": [
    "user_12002_rated_genres = (user_12002_rated_movies\n",
    "                          .pipe(prepare_user_rated_genres))"
   ]
  },
  {
   "cell_type": "code",
   "execution_count": null,
   "metadata": {},
   "outputs": [],
   "source": [
    "user_12002_rated_genres.head()"
   ]
  },
  {
   "cell_type": "code",
   "execution_count": null,
   "metadata": {},
   "outputs": [],
   "source": [
    "ax = plot_counts(user_12002_rated_genres, count_col='genre', y_label='rate count',\n",
    "                 title='Rate count by genre for user id {}'.format(12002), figsize=(14, 7), rotate=True)\n",
    "ax"
   ]
  },
  {
   "cell_type": "code",
   "execution_count": null,
   "metadata": {},
   "outputs": [],
   "source": [
    "fig = ax.get_figure()\n",
    "fig.savefig(os.path.join(USER_12002_DIR, 'usr12002_genre_rate_count.png'), bbox_inches = \"tight\")"
   ]
  },
  {
   "cell_type": "code",
   "execution_count": null,
   "metadata": {},
   "outputs": [],
   "source": [
    "user_12002_genres_rates_summary = (user_12002_rated_genres\n",
    "                                 .pipe(prepare_summary_table, group_cols=['userId', 'genre'], \n",
    "                                       aggr_col='rating', col_1='rate_amount', col_2='rate_avg')\n",
    "                                 .pipe(sort_values, sort_subset=['rate_avg'], ascending=False))"
   ]
  },
  {
   "cell_type": "code",
   "execution_count": null,
   "metadata": {},
   "outputs": [],
   "source": [
    "user_12002_genres_rates_summary.head()"
   ]
  },
  {
   "cell_type": "code",
   "execution_count": null,
   "metadata": {},
   "outputs": [],
   "source": [
    "user_12002_genres_rates_summary.info()\n",
    "user_12002_genres_rates_summary.describe()"
   ]
  },
  {
   "cell_type": "code",
   "execution_count": null,
   "metadata": {},
   "outputs": [],
   "source": [
    "ax = plot_bar(user_12002_genres_rates_summary, x='genre', y='rate_avg', \n",
    "              title='Ratings average by genre for user id {}'.format(12002), ann_format=\"{:.2f}\", \n",
    "              figsize=(14, 7), rotate=True, palette=\"Greens_d\")\n",
    "ax.set_ylim([0.0, 5.5])\n",
    "ax"
   ]
  },
  {
   "cell_type": "code",
   "execution_count": null,
   "metadata": {},
   "outputs": [],
   "source": [
    "fig = ax.get_figure()\n",
    "fig.savefig(os.path.join(USER_12002_DIR, 'usr12002_genre_rate_avg.png'), bbox_inches = \"tight\")"
   ]
  },
  {
   "cell_type": "markdown",
   "metadata": {},
   "source": [
    "##### Keywords rated"
   ]
  },
  {
   "cell_type": "code",
   "execution_count": null,
   "metadata": {},
   "outputs": [],
   "source": [
    "user_12002_rated_keywords = (user_12002_rated_movies\n",
    "                            .pipe(prepare_user_rated_keywords))"
   ]
  },
  {
   "cell_type": "code",
   "execution_count": null,
   "metadata": {},
   "outputs": [],
   "source": [
    "user_12002_rated_keywords.head()"
   ]
  },
  {
   "cell_type": "code",
   "execution_count": null,
   "metadata": {},
   "outputs": [],
   "source": [
    "user_12002_rated_keywords.info()"
   ]
  },
  {
   "cell_type": "code",
   "execution_count": null,
   "metadata": {},
   "outputs": [],
   "source": [
    "user_12002_keywords_rates_summary = (user_12002_rated_keywords\n",
    "                                     .pipe(prepare_summary_table, group_cols=['userId', 'plot_keyword'], \n",
    "                                       aggr_col='rating', col_1='rate_amount', col_2='rate_avg')\n",
    "                                     .pipe(sort_values, sort_subset=['rate_amount'], ascending=False)\n",
    "                                     .pipe(reset_index))"
   ]
  },
  {
   "cell_type": "code",
   "execution_count": null,
   "metadata": {},
   "outputs": [],
   "source": [
    "user_12002_keywords_rates_summary.head()"
   ]
  },
  {
   "cell_type": "code",
   "execution_count": null,
   "metadata": {},
   "outputs": [],
   "source": [
    "user_12002_keywords_rates_summary.info()\n",
    "user_12002_keywords_rates_summary.describe()"
   ]
  },
  {
   "cell_type": "code",
   "execution_count": null,
   "metadata": {},
   "outputs": [],
   "source": [
    "ax = plot_bar(user_12002_keywords_rates_summary.head(20), x='plot_keyword', y='rate_amount', \n",
    "              title='Most frequently rated keywords for user id {}'.format(12002), ann_format=\"{:.0f}\",\n",
    "              figsize=(14, 7), rotate=True, palette=\"Oranges_d\")\n",
    "ax"
   ]
  },
  {
   "cell_type": "code",
   "execution_count": null,
   "metadata": {},
   "outputs": [],
   "source": [
    "fig = ax.get_figure()\n",
    "fig.savefig(os.path.join(USER_12002_DIR, 'usr12002_keywords_rate_amount.png'), bbox_inches = \"tight\")"
   ]
  },
  {
   "cell_type": "markdown",
   "metadata": {
    "collapsed": "true"
   },
   "source": [
    "### __User 131800 analysis - min rate avg__"
   ]
  },
  {
   "cell_type": "code",
   "execution_count": null,
   "metadata": {},
   "outputs": [],
   "source": [
    "USER_131800_DIR = os.path.join(USERS_ANALYSIS_DIR, 'user_131800')\n",
    "Path(USER_131800_DIR).mkdir(parents=True, exist_ok=True)"
   ]
  },
  {
   "cell_type": "markdown",
   "metadata": {
    "collapsed": "true"
   },
   "source": [
    "#### __Prepare rated movies table__"
   ]
  },
  {
   "cell_type": "code",
   "execution_count": null,
   "metadata": {},
   "outputs": [],
   "source": [
    "user_131800_rated_movies = (ratings\n",
    "                           .pipe(prepare_user_rated_movies_table, 131800)\n",
    "                           .pipe(merge_user_rating_with_movies, movies))"
   ]
  },
  {
   "cell_type": "code",
   "execution_count": null,
   "metadata": {},
   "outputs": [],
   "source": [
    "user_131800_rated_movies.head(2)"
   ]
  },
  {
   "cell_type": "code",
   "execution_count": null,
   "metadata": {},
   "outputs": [],
   "source": [
    "user_131800_rated_movies.info()\n",
    "user_131800_rated_movies.describe()"
   ]
  },
  {
   "cell_type": "code",
   "execution_count": null,
   "metadata": {},
   "outputs": [],
   "source": [
    "user_131800_rated_movies.to_csv(os.path.join(USER_131800_DIR, 'usr131800_rated_movies.csv'), index=False)"
   ]
  },
  {
   "cell_type": "markdown",
   "metadata": {},
   "source": [
    "#### __Visualizations__"
   ]
  },
  {
   "cell_type": "markdown",
   "metadata": {},
   "source": [
    "##### Movies rating count"
   ]
  },
  {
   "cell_type": "code",
   "execution_count": null,
   "metadata": {},
   "outputs": [],
   "source": [
    "ax = plot_counts(user_131800_rated_movies, count_col='rating', \n",
    "                 title='Movies ratings count for user id {}'.format(12002), figsize=(4,6))\n",
    "ax = change_bars_width(ax, 0.65)\n",
    "ax"
   ]
  },
  {
   "cell_type": "code",
   "execution_count": null,
   "metadata": {},
   "outputs": [],
   "source": [
    "fig = ax.get_figure()\n",
    "fig.savefig(os.path.join(USER_131800_DIR, 'usr131800_mv_rate_amount.png'), bbox_inches = \"tight\")"
   ]
  },
  {
   "cell_type": "markdown",
   "metadata": {},
   "source": [
    "##### Genres rated"
   ]
  },
  {
   "cell_type": "code",
   "execution_count": null,
   "metadata": {},
   "outputs": [],
   "source": [
    "user_131800_rated_genres = (user_131800_rated_movies\n",
    "                            .pipe(prepare_user_rated_genres))"
   ]
  },
  {
   "cell_type": "code",
   "execution_count": null,
   "metadata": {},
   "outputs": [],
   "source": [
    "user_131800_rated_genres.head()"
   ]
  },
  {
   "cell_type": "code",
   "execution_count": null,
   "metadata": {},
   "outputs": [],
   "source": [
    "ax = plot_counts(user_131800_rated_genres, count_col='genre', y_label='rate count',\n",
    "                 title='Rate count by genre for user id {}'.format(131800), figsize=(14, 6), rotate=True)\n",
    "ax"
   ]
  },
  {
   "cell_type": "code",
   "execution_count": null,
   "metadata": {},
   "outputs": [],
   "source": [
    "fig = ax.get_figure()\n",
    "fig.savefig(os.path.join(USER_131800_DIR, 'usr131800_genre_rate_count.png'), bbox_inches = \"tight\")"
   ]
  },
  {
   "cell_type": "code",
   "execution_count": null,
   "metadata": {},
   "outputs": [],
   "source": [
    "user_131800_genres_rates_summary = (user_131800_rated_genres\n",
    "                                    .pipe(prepare_summary_table, group_cols=['userId', 'genre'], \n",
    "                                       aggr_col='rating', col_1='rate_amount', col_2='rate_avg')\n",
    "                                   .pipe(sort_values, sort_subset=['rate_avg'], ascending=False)\n",
    "                                   .pipe(reset_index))"
   ]
  },
  {
   "cell_type": "code",
   "execution_count": null,
   "metadata": {},
   "outputs": [],
   "source": [
    "user_131800_genres_rates_summary.head()"
   ]
  },
  {
   "cell_type": "code",
   "execution_count": null,
   "metadata": {},
   "outputs": [],
   "source": [
    "user_131800_genres_rates_summary.info()\n",
    "user_131800_genres_rates_summary.describe()"
   ]
  },
  {
   "cell_type": "code",
   "execution_count": null,
   "metadata": {},
   "outputs": [],
   "source": [
    "ax = plot_bar(user_131800_genres_rates_summary, x='genre', y='rate_avg', \n",
    "              title='Ratings average by genre for user id {}'.format(131800), ann_format=\"{:.2f}\", \n",
    "              figsize=(14, 6), rotate=True, palette=\"Greens_d\")\n",
    "ax.set_ylim([0.0, 5.0])\n",
    "ax"
   ]
  },
  {
   "cell_type": "code",
   "execution_count": null,
   "metadata": {},
   "outputs": [],
   "source": [
    "fig = ax.get_figure()\n",
    "fig.savefig(os.path.join(USER_131800_DIR, 'usr131800_genre_rate_avg.png'), bbox_inches = \"tight\")"
   ]
  },
  {
   "cell_type": "markdown",
   "metadata": {},
   "source": [
    "##### Rated keywords"
   ]
  },
  {
   "cell_type": "code",
   "execution_count": null,
   "metadata": {},
   "outputs": [],
   "source": [
    "user_131800_rated_keywords = (user_131800_rated_movies\n",
    "                             .pipe(prepare_user_rated_keywords))"
   ]
  },
  {
   "cell_type": "code",
   "execution_count": null,
   "metadata": {},
   "outputs": [],
   "source": [
    "user_131800_rated_keywords.info()"
   ]
  },
  {
   "cell_type": "code",
   "execution_count": null,
   "metadata": {},
   "outputs": [],
   "source": [
    "user_131800_keywords_rates_summary = (user_131800_rated_keywords\n",
    "                                     .pipe(prepare_summary_table, group_cols=['userId', 'plot_keyword'], \n",
    "                                       aggr_col='rating', col_1='rate_amount', col_2='rate_avg')\n",
    "                                     .pipe(sort_values, sort_subset=['rate_amount'], ascending=False)\n",
    "                                     .pipe(reset_index))"
   ]
  },
  {
   "cell_type": "code",
   "execution_count": null,
   "metadata": {},
   "outputs": [],
   "source": [
    "user_131800_keywords_rates_summary.head()"
   ]
  },
  {
   "cell_type": "code",
   "execution_count": null,
   "metadata": {},
   "outputs": [],
   "source": [
    "user_131800_keywords_rates_summary.info()\n",
    "user_131800_keywords_rates_summary.describe()"
   ]
  },
  {
   "cell_type": "code",
   "execution_count": null,
   "metadata": {},
   "outputs": [],
   "source": [
    "ax = plot_bar(user_131800_keywords_rates_summary.head(20), x='plot_keyword', y='rate_amount', \n",
    "              title='Most frequently rated keywords for user id {}'.format(131800), ann_format=\"{:.0f}\",\n",
    "              figsize=(14, 7), rotate=True, palette=\"Oranges_d\")\n",
    "ax"
   ]
  },
  {
   "cell_type": "code",
   "execution_count": null,
   "metadata": {},
   "outputs": [],
   "source": [
    "fig = ax.get_figure()\n",
    "fig.savefig(os.path.join(USER_131800_DIR, 'usr131800_keywords_rate_amount.png'), bbox_inches = \"tight\")"
   ]
  }
 ],
 "metadata": {
  "kernelspec": {
   "display_name": "rec-sys",
   "language": "python",
   "name": "rec-sys"
  },
  "language_info": {
   "codemirror_mode": {
    "name": "ipython",
    "version": 3
   },
   "file_extension": ".py",
   "mimetype": "text/x-python",
   "name": "python",
   "nbconvert_exporter": "python",
   "pygments_lexer": "ipython3",
   "version": "3.8.3"
  }
 },
 "nbformat": 4,
 "nbformat_minor": 4
}
