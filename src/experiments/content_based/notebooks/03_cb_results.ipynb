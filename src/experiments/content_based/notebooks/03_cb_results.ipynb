{
 "cells": [
  {
   "cell_type": "code",
   "execution_count": null,
   "metadata": {},
   "outputs": [],
   "source": [
    "%load_ext watermark\n",
    "%load_ext autoreload"
   ]
  },
  {
   "cell_type": "code",
   "execution_count": null,
   "metadata": {},
   "outputs": [],
   "source": [
    "import pandas as pd\n",
    "import numpy as np\n",
    "import matplotlib.pyplot as plt\n",
    "import seaborn as sns\n",
    "import sys\n",
    "import pickle\n",
    "import os\n",
    "from pathlib import Path\n",
    "from pandas import option_context\n",
    "sys.path.append('../../../../')\n",
    "from src.settings import DATA_DIR, PROJECT_DIR,  RESULT_DIR\n",
    "\n",
    "CURRENT_PATH = os.path.abspath(os.path.join(os.pardir))\n",
    "print(CURRENT_PATH)\n",
    "print(DATA_DIR)\n",
    "print(RESULT_DIR)"
   ]
  },
  {
   "cell_type": "code",
   "execution_count": null,
   "metadata": {},
   "outputs": [],
   "source": [
    "import logging\n",
    "\n",
    "logging.basicConfig(level=logging.INFO)"
   ]
  },
  {
   "cell_type": "code",
   "execution_count": null,
   "metadata": {},
   "outputs": [],
   "source": [
    "from src.data_processing.visualization.plot_utils import plot_counts, plot_violin, plot_line, plot_distribution\n",
    "\n",
    "from src.data_processing.process.cb_results_process import build_spearman_drop_frame\n",
    "                                                   \n",
    "    \n",
    "from src.data_processing.process.ratings_df_utils import (prepare_user_unrated_movies_table, prepare_user_predict_rated_movies,\n",
    "                                                      prepare_user_rated_genres, merge_user_rating_with_movies, prepare_user_rated_movies_table)\n",
    "\n",
    "from src.data_processing.dataframe_utils import (start_pipeline, drop_unnecessary_cols, expand_column, unpivot_dataframe,\n",
    "                                                remove_nan, rename_cols, reset_index)"
   ]
  },
  {
   "cell_type": "code",
   "execution_count": null,
   "metadata": {},
   "outputs": [],
   "source": [
    "MERGED_DATA_PATH = Path(DATA_DIR) / 'processed' / 'merged_ml25m_kaggle'\n",
    "MERGED_DATA_PATH"
   ]
  },
  {
   "cell_type": "code",
   "execution_count": null,
   "metadata": {},
   "outputs": [],
   "source": [
    "movies = pd.read_csv(os.path.join(MERGED_DATA_PATH, 'movies_merged.csv'))\n",
    "ratings = pd.read_csv(os.path.join(MERGED_DATA_PATH, 'ratings_merged.csv'), \n",
    "                      dtype={\n",
    "                             'userId': np.int32,\n",
    "                             'movieId': np.int32,\n",
    "                             'rating': np.float32,\n",
    "                             'timestamp': np.int32,\n",
    "                         })"
   ]
  },
  {
   "cell_type": "code",
   "execution_count": null,
   "metadata": {},
   "outputs": [],
   "source": [
    "LOGS_DIR = Path(RESULT_DIR) / 'logs/cb'\n",
    "SPEARMAN_PATH = Path(LOGS_DIR,) / '2020-05-31_11-48_CB_spearman.pkl'\n",
    "REPORTS_CB_DIR = Path(PROJECT_DIR) / 'reports/figures/cb'\n",
    "Path(REPORTS_CB_DIR).mkdir(parents=True, exist_ok=True)\n",
    "REPORTS_CB_DIR"
   ]
  },
  {
   "cell_type": "code",
   "execution_count": null,
   "metadata": {},
   "outputs": [],
   "source": [
    "with open(SPEARMAN_PATH, 'rb') as f:\n",
    "    results = pickle.load(f)"
   ]
  },
  {
   "cell_type": "code",
   "execution_count": null,
   "metadata": {},
   "outputs": [],
   "source": [
    "for t in ['text', 'tag']:\n",
    "    spearman_df_1 = build_spearman_drop_frame(results[t], drop_rate=0.1)\n",
    "    spearman_df_3 = build_spearman_drop_frame(results[t], drop_rate=0.3)\n",
    "    spearman_df_5 = build_spearman_drop_frame(results[t], drop_rate=0.5)\n",
    "    spearman_df_7 = build_spearman_drop_frame(results[t], drop_rate=0.7)\n",
    "\n",
    "    spearman_df = pd.concat([spearman_df_1, spearman_df_3, spearman_df_5, spearman_df_7])\n",
    "    spearman_df.head()\n",
    "\n",
    "    with sns.axes_style(\"darkgrid\"):\n",
    "        g = sns.FacetGrid(spearman_df, row=\"drop_rate\", height=4, aspect=2.5)\n",
    "        g.map(sns.distplot, \"spearman_correlation\")\n",
    "        g.fig.suptitle(f'Spearman correlation distribution across different drop rates [{t.capitalize()} model]', y=1.005, \n",
    "                       fontsize=14.0)\n",
    "        for ax in g.axes.flatten():\n",
    "            ax.tick_params(labelbottom=True)\n",
    "\n",
    "    fig = g.fig\n",
    "    fig.savefig(Path(REPORTS_CB_DIR) / f'spearman_dist_plots_{t}.png', bbox_inches = \"tight\")"
   ]
  },
  {
   "cell_type": "code",
   "execution_count": null,
   "metadata": {},
   "outputs": [],
   "source": [
    "DISTANCES_PATH = Path(LOGS_DIR) / '2020-05-30_19-56_CB_distances.npz'"
   ]
  },
  {
   "cell_type": "code",
   "execution_count": null,
   "metadata": {},
   "outputs": [],
   "source": [
    "with np.load(DISTANCES_PATH) as data:\n",
    "    text_distances = data['text']\n",
    "    tag_distances = data['tag']"
   ]
  },
  {
   "cell_type": "code",
   "execution_count": null,
   "metadata": {},
   "outputs": [],
   "source": [
    "fig = plt.figure(dpi=300)\n",
    "with sns.axes_style(\"darkgrid\"):\n",
    "    ax = sns.distplot(text_distances)\n",
    "    ax.set_title('Distribution of cosine similarity values between movies')\n",
    "    ax.set_xlabel('Cosine similarity')\n",
    "\n",
    "fig.savefig(Path(REPORTS_CB_DIR) / 'spearman_dist_plots_text.png', bbox_inches = \"tight\")"
   ]
  },
  {
   "cell_type": "code",
   "execution_count": null,
   "metadata": {},
   "outputs": [],
   "source": [
    "fig = plt.figure(dpi=300)\n",
    "with sns.axes_style(\"darkgrid\"):\n",
    "    ax = sns.distplot(tag_distances)\n",
    "    ax.set_title('Distribution of cosine similarity values between movies')\n",
    "    ax.set_xlabel('Cosine similarity')\n",
    "\n",
    "fig.savefig(Path(REPORTS_CB_DIR) / 'spearman_dist_plots_tag.png', bbox_inches = \"tight\")"
   ]
  },
  {
   "cell_type": "code",
   "execution_count": null,
   "metadata": {},
   "outputs": [],
   "source": [
    "fig = plt.figure(dpi=300)\n",
    "with sns.axes_style(\"darkgrid\"):\n",
    "    ax = sns.distplot(tag_distances[np.nonzero(tag_distances)])\n",
    "    ax.set_title('Distribution of cosine similarity values between movies (without 0s) [Tag model]')\n",
    "    ax.set_xlabel('Cosine similarity')\n",
    "\n",
    "fig.savefig(Path(REPORTS_CB_DIR) / 'spearman_dist_plots_tag_nonzero.png', bbox_inches = \"tight\")"
   ]
  }
 ],
 "metadata": {
  "kernelspec": {
   "display_name": "Python 3",
   "language": "python",
   "name": "python3"
  },
  "language_info": {
   "codemirror_mode": {
    "name": "ipython",
    "version": 3
   },
   "file_extension": ".py",
   "mimetype": "text/x-python",
   "name": "python",
   "nbconvert_exporter": "python",
   "pygments_lexer": "ipython3",
   "version": "3.7.7"
  }
 },
 "nbformat": 4,
 "nbformat_minor": 4
}
