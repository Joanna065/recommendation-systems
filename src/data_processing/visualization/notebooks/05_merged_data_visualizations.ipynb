{
 "cells": [
  {
   "cell_type": "markdown",
   "metadata": {},
   "source": [
    "# __Merged movie dataset visualization__"
   ]
  },
  {
   "cell_type": "markdown",
   "metadata": {
    "collapsed": "true"
   },
   "source": [
    "##### Initial setup"
   ]
  },
  {
   "cell_type": "code",
   "execution_count": null,
   "metadata": {},
   "outputs": [],
   "source": [
    "%load_ext watermark\n",
    "%load_ext autoreload"
   ]
  },
  {
   "cell_type": "code",
   "execution_count": null,
   "metadata": {},
   "outputs": [],
   "source": [
    "%autoreload 2\n",
    "%watermark -v -n -m -p numpy,scipy,sklearn,pandas,seaborn,recmetrics"
   ]
  },
  {
   "cell_type": "code",
   "execution_count": null,
   "metadata": {},
   "outputs": [],
   "source": [
    "import logging\n",
    "\n",
    "logging.basicConfig(level=logging.INFO)"
   ]
  },
  {
   "cell_type": "code",
   "execution_count": null,
   "metadata": {},
   "outputs": [],
   "source": [
    "import pandas as pd\n",
    "import numpy as np\n",
    "import matplotlib.pyplot as plt\n",
    "import seaborn as sns\n",
    "import recmetrics\n",
    "import sys\n",
    "import os\n",
    "from pathlib import Path\n",
    "sys.path.append('../../../../')\n",
    "from src.settings import DATA_DIR, PROJECT_DIR\n",
    "\n",
    "CURRENT_PATH = os.path.abspath(os.path.join(os.pardir))\n",
    "print(CURRENT_PATH)\n",
    "print(DATA_DIR)"
   ]
  },
  {
   "cell_type": "markdown",
   "metadata": {},
   "source": [
    "Import functions"
   ]
  },
  {
   "cell_type": "code",
   "execution_count": null,
   "metadata": {},
   "outputs": [],
   "source": [
    "from src.data_processing.dataframe_utils import (start_pipeline, remove_nan, drop_unnecessary_cols, reset_index, rename_cols,\n",
    "                                                     sort_values, unpivot_dataframe, expand_column)\n",
    "from src.data_processing.visualization.plot_utils import plot_counts, change_bars_width, plot_bar, make_wordcloud"
   ]
  },
  {
   "cell_type": "markdown",
   "metadata": {
    "collapsed": "true"
   },
   "source": [
    "##### Load cleaned data"
   ]
  },
  {
   "cell_type": "code",
   "execution_count": null,
   "metadata": {},
   "outputs": [],
   "source": [
    "MERGED_DATA_PATH = os.path.join(DATA_DIR, 'processed', 'merged_ml25m_kaggle')\n",
    "MERGED_DATA_PATH"
   ]
  },
  {
   "cell_type": "code",
   "execution_count": null,
   "metadata": {},
   "outputs": [],
   "source": [
    "movies = pd.read_csv(os.path.join(MERGED_DATA_PATH, 'movies_merged.csv'))\n",
    "metadata = pd.read_csv(os.path.join(MERGED_DATA_PATH, 'movies_metadata_merged.csv'))\n",
    "ratings = pd.read_csv(os.path.join(MERGED_DATA_PATH, 'ratings_merged.csv'))\n",
    "tags = pd.read_csv(os.path.join(MERGED_DATA_PATH, 'tags_merged.csv'))"
   ]
  },
  {
   "cell_type": "markdown",
   "metadata": {
    "collapsed": "true"
   },
   "source": [
    "## __Data summary__"
   ]
  },
  {
   "cell_type": "markdown",
   "metadata": {},
   "source": [
    "#### Movies"
   ]
  },
  {
   "cell_type": "code",
   "execution_count": null,
   "metadata": {},
   "outputs": [],
   "source": [
    "movies.head(2)"
   ]
  },
  {
   "cell_type": "code",
   "execution_count": null,
   "metadata": {},
   "outputs": [],
   "source": [
    "movies.info()\n",
    "movies.describe()"
   ]
  },
  {
   "cell_type": "markdown",
   "metadata": {},
   "source": [
    "#### Metadata"
   ]
  },
  {
   "cell_type": "code",
   "execution_count": null,
   "metadata": {},
   "outputs": [],
   "source": [
    "metadata.head(2)"
   ]
  },
  {
   "cell_type": "code",
   "execution_count": null,
   "metadata": {},
   "outputs": [],
   "source": [
    "metadata.info()\n",
    "metadata.describe()"
   ]
  },
  {
   "cell_type": "markdown",
   "metadata": {},
   "source": [
    "#### Ratings"
   ]
  },
  {
   "cell_type": "code",
   "execution_count": null,
   "metadata": {},
   "outputs": [],
   "source": [
    "ratings.head()"
   ]
  },
  {
   "cell_type": "code",
   "execution_count": null,
   "metadata": {},
   "outputs": [],
   "source": [
    "ratings.info()\n",
    "ratings.describe()"
   ]
  },
  {
   "cell_type": "markdown",
   "metadata": {},
   "source": [
    "#### Tags"
   ]
  },
  {
   "cell_type": "code",
   "execution_count": null,
   "metadata": {},
   "outputs": [],
   "source": [
    "tags.head()"
   ]
  },
  {
   "cell_type": "code",
   "execution_count": null,
   "metadata": {},
   "outputs": [],
   "source": [
    "tags.info()\n",
    "tags.describe()"
   ]
  },
  {
   "cell_type": "markdown",
   "metadata": {
    "collapsed": "true"
   },
   "source": [
    "## __Visualizations__"
   ]
  },
  {
   "cell_type": "code",
   "execution_count": null,
   "metadata": {},
   "outputs": [],
   "source": [
    "sns.set_context(\"notebook\", font_scale=1.2, rc={\"lines.linewidth\": 2.5})\n",
    "\n",
    "VISUALIZATION_DIR = os.path.join(PROJECT_DIR, 'reports/figures/sec2_data')\n",
    "Path(VISUALIZATION_DIR).mkdir(parents=True, exist_ok=True)\n",
    "VISUALIZATION_DIR"
   ]
  },
  {
   "cell_type": "markdown",
   "metadata": {
    "collapsed": "true"
   },
   "source": [
    "#### __Movie count by years__"
   ]
  },
  {
   "cell_type": "markdown",
   "metadata": {},
   "source": [
    "Movies with release year specified"
   ]
  },
  {
   "cell_type": "code",
   "execution_count": null,
   "metadata": {},
   "outputs": [],
   "source": [
    "movies_with_year = movies.dropna(subset=['release_date']).copy(deep=True)\n",
    "movies_with_year['year'] = movies_with_year['release_date'].map(lambda x: str(x)[0:4])\n",
    "year_summary = movies_with_year.groupby(['year'])['movieId'].count().reset_index()\n",
    "year_summary.rename(columns={'movieId': 'movie_amount'}, inplace=True)\n",
    "year_summary.tail()"
   ]
  },
  {
   "cell_type": "code",
   "execution_count": null,
   "metadata": {},
   "outputs": [],
   "source": [
    "plt.figure(figsize=(14,8))\n",
    "plt.tight_layout()\n",
    "ax = movies_with_year.groupby('year')['movieId'].count().plot()\n",
    "ax.set_title('Amount of movie releases by year')\n",
    "ax"
   ]
  },
  {
   "cell_type": "code",
   "execution_count": null,
   "metadata": {},
   "outputs": [],
   "source": [
    "fig = ax.get_figure()\n",
    "fig.savefig(os.path.join(VISUALIZATION_DIR, 'movie_amount_by_year.png'), bbox_inches = \"tight\")"
   ]
  },
  {
   "cell_type": "markdown",
   "metadata": {},
   "source": [
    "#### __Rate visualization__"
   ]
  },
  {
   "cell_type": "markdown",
   "metadata": {
    "collapsed": "true"
   },
   "source": [
    "##### Rate amount by scale"
   ]
  },
  {
   "cell_type": "code",
   "execution_count": null,
   "metadata": {},
   "outputs": [],
   "source": [
    "ax = plot_counts(ratings, count_col='rating', title='Rate counts by scale', palette='coolwarm', annotate=False)\n",
    "ylabels = [f'{x} mln' for x in ax.get_yticks()/1_000_000]\n",
    "ax.set_yticklabels(ylabels)\n",
    "plt.show()"
   ]
  },
  {
   "cell_type": "code",
   "execution_count": null,
   "metadata": {},
   "outputs": [],
   "source": [
    "fig = ax.get_figure()\n",
    "fig.savefig(os.path.join(VISUALIZATION_DIR, 'rate_count_scales.png'), bbox_inches = \"tight\")"
   ]
  },
  {
   "cell_type": "markdown",
   "metadata": {
    "collapsed": "true"
   },
   "source": [
    "##### Movie-ratings"
   ]
  },
  {
   "cell_type": "code",
   "execution_count": null,
   "metadata": {},
   "outputs": [],
   "source": [
    "movie_ratings = pd.merge(movies, ratings, on='movieId')\n",
    "movie_ratings.head(2)"
   ]
  },
  {
   "cell_type": "code",
   "execution_count": null,
   "metadata": {},
   "outputs": [],
   "source": [
    "movie_ratings.info()"
   ]
  },
  {
   "cell_type": "markdown",
   "metadata": {
    "collapsed": "true"
   },
   "source": [
    "##### Most frequently rated movies"
   ]
  },
  {
   "cell_type": "code",
   "execution_count": null,
   "metadata": {},
   "outputs": [],
   "source": [
    "ax = plot_bar(movie_ratings, x=movie_ratings['title'].value_counts()[:10], y=movie_ratings['title'].value_counts()[:10].index, figsize=(10,8),\n",
    "              title='The most frequently rated films', palette='Purples_d')\n",
    "xlabels = [f'{x} k' for x in ax.get_xticks()/1_000]\n",
    "ax.set_xticklabels(xlabels)\n",
    "plt.show()"
   ]
  },
  {
   "cell_type": "code",
   "execution_count": null,
   "metadata": {},
   "outputs": [],
   "source": [
    "fig = ax.get_figure()\n",
    "fig.savefig(os.path.join(VISUALIZATION_DIR, 'most_freq_rated_films.png'), bbox_inches = \"tight\")"
   ]
  },
  {
   "cell_type": "markdown",
   "metadata": {
    "collapsed": "true"
   },
   "source": [
    "##### Most highly rating movies"
   ]
  },
  {
   "cell_type": "markdown",
   "metadata": {},
   "source": [
    "Bayesian weighted estimate similar to IMDb top 250 list method. The Bayesian estimate BE is given as\n",
    "\n",
    "$BE=\\frac{nR+mC}{n+m}$,\n",
    "where\n",
    "\n",
    "R - the mean rating from everyone who has seen a particular movie, \\\n",
    "n - the number of times a particular movie has been rated, \\\n",
    "m - the minimum number of votes required to be in the top list, \\\n",
    "C - the mean rating of all films in the entire movie list.\n",
    "\n",
    "Movie must have at least m ratings to consider for that list. Let assume $m = 1000$."
   ]
  },
  {
   "cell_type": "code",
   "execution_count": null,
   "metadata": {},
   "outputs": [],
   "source": [
    "total_avg_rating = ratings['rating'].mean()\n",
    "m = 1000\n",
    "\n",
    "top_list = pd.DataFrame()\n",
    "top_list['mean_rating'] = movie_ratings.groupby(['movieId','title'])['rating'].mean()\n",
    "top_list['num_ratings'] = movie_ratings.groupby(['movieId','title'])['rating'].count()\n",
    "top_list['BE'] = (top_list['num_ratings']*top_list['mean_rating']+m*total_avg_rating)/(top_list['num_ratings']+m)\n",
    "top_list = top_list.sort_values(by='BE', ascending=False).reset_index()\n",
    "top_list.head(10)"
   ]
  },
  {
   "cell_type": "code",
   "execution_count": null,
   "metadata": {},
   "outputs": [],
   "source": [
    "top_list.info()\n",
    "top_list.describe()"
   ]
  },
  {
   "cell_type": "code",
   "execution_count": null,
   "metadata": {},
   "outputs": [],
   "source": [
    "ax = plot_bar(top_list, x=top_list['BE'][:10], y=top_list['title'][:10], title='The most highly rated films', figsize=(10,8), palette='Oranges_d')\n",
    "ax.set_xlim([0, 5])\n",
    "ax"
   ]
  },
  {
   "cell_type": "code",
   "execution_count": null,
   "metadata": {},
   "outputs": [],
   "source": [
    "fig = ax.get_figure()\n",
    "fig.savefig(os.path.join(VISUALIZATION_DIR, 'most_highlyBE_rated_films.png'), bbox_inches = \"tight\")"
   ]
  },
  {
   "cell_type": "markdown",
   "metadata": {
    "collapsed": "true"
   },
   "source": [
    "##### Rate amount distribution"
   ]
  },
  {
   "cell_type": "code",
   "execution_count": null,
   "metadata": {},
   "outputs": [],
   "source": [
    "fig = plt.figure(figsize=(12, 6))\n",
    "recmetrics.long_tail_plot(df=ratings, \n",
    "             item_id_column=\"movieId\", \n",
    "             interaction_type=\"movie ratings\", \n",
    "             percentage=0.6,\n",
    "             x_labels=False)"
   ]
  },
  {
   "cell_type": "code",
   "execution_count": null,
   "metadata": {},
   "outputs": [],
   "source": [
    "fig.savefig(os.path.join(VISUALIZATION_DIR, 'rating_long_tail_plot.png'), bbox_inches = \"tight\")"
   ]
  },
  {
   "cell_type": "markdown",
   "metadata": {},
   "source": [
    "Prepare table with movies which were at least once rated"
   ]
  },
  {
   "cell_type": "code",
   "execution_count": null,
   "metadata": {},
   "outputs": [],
   "source": [
    "movie_fq_rate = pd.DataFrame()\n",
    "movie_fq_rate['ratings_amount'] = movie_ratings.groupby('movieId')['rating'].count()\n",
    "movie_fq_rate = movie_fq_rate.reset_index()\n",
    "movie_fq_rate.head()"
   ]
  },
  {
   "cell_type": "code",
   "execution_count": null,
   "metadata": {},
   "outputs": [],
   "source": [
    "movie_fq_rate.info()\n",
    "movie_fq_rate.describe()"
   ]
  },
  {
   "cell_type": "code",
   "execution_count": null,
   "metadata": {},
   "outputs": [],
   "source": [
    "plt.figure(figsize=(12,6))\n",
    "ax = sns.distplot(movie_fq_rate['ratings_amount'], hist=False)\n",
    "xlabels = [f'%.0f k' % x for x in ax.get_xticks()/1_000]\n",
    "ax.set_xticklabels(xlabels)\n",
    "ax.set_title('Distribution of rate amount per movie')\n",
    "plt.show()"
   ]
  },
  {
   "cell_type": "code",
   "execution_count": null,
   "metadata": {},
   "outputs": [],
   "source": [
    "fig = ax.get_figure()\n",
    "fig.savefig(os.path.join(VISUALIZATION_DIR, 'rate_amount_distribution.png'), bbox_inches = \"tight\")"
   ]
  },
  {
   "cell_type": "markdown",
   "metadata": {
    "collapsed": "true"
   },
   "source": [
    "##### Ratings per genre"
   ]
  },
  {
   "cell_type": "code",
   "execution_count": null,
   "metadata": {},
   "outputs": [],
   "source": [
    "movies_genres = (movies[['movieId', 'rate_amount', 'rate_average', 'genres']]\n",
    "                 .pipe(start_pipeline).pipe(expand_column, keep_cols=['movieId', 'rate_amount', 'rate_average'], expand_col='genres')\n",
    "                .pipe(unpivot_dataframe, keep_cols=['movieId', 'rate_amount', 'rate_average'])\n",
    "                .pipe(remove_nan, columns=['value']).pipe(drop_unnecessary_cols, columns=['variable'])\n",
    "                .pipe(rename_cols, colmap_dict={'value': 'genre'})\n",
    "                .pipe(sort_values, sort_subset=['movieId'])\n",
    "                .pipe(reset_index))\n",
    "movies_genres.head()"
   ]
  },
  {
   "cell_type": "code",
   "execution_count": null,
   "metadata": {},
   "outputs": [],
   "source": [
    "movies_genres.info()"
   ]
  },
  {
   "cell_type": "code",
   "execution_count": null,
   "metadata": {},
   "outputs": [],
   "source": [
    "genre_rates = movies_genres.groupby(by=['genre'])['rate_amount'].sum().sort_values(ascending=False).reset_index()\n",
    "genre_rates.head()"
   ]
  },
  {
   "cell_type": "code",
   "execution_count": null,
   "metadata": {},
   "outputs": [],
   "source": [
    "ax = plot_bar(genre_rates, x='genre', y='rate_amount', title='Rate amounts by movies genre', rotate=True, figsize=(13,6), palette='twilight_d')\n",
    "ylabels = [f'{x} mln' for x in ax.get_yticks()/1_000_000]\n",
    "ax.set_yticklabels(ylabels)\n",
    "for p in ax.patches:\n",
    "    ax.annotate(\"{:.2f}\".format(p.get_height() / 1_000_000),\n",
    "                xy=(p.get_x() + p.get_width() / 2., p.get_height()),\n",
    "                ha='center', va='center', xytext=(0, 5), textcoords='offset points')\n",
    "plt.show()"
   ]
  },
  {
   "cell_type": "code",
   "execution_count": null,
   "metadata": {},
   "outputs": [],
   "source": [
    "fig = ax.get_figure()\n",
    "fig.savefig(os.path.join(VISUALIZATION_DIR, 'rate_amount_by_genre.png'), bbox_inches = \"tight\")"
   ]
  },
  {
   "cell_type": "code",
   "execution_count": null,
   "metadata": {},
   "outputs": [],
   "source": [
    "genre_rate_avg = movies_genres.groupby(by=['genre'])['rate_average'].mean().sort_values(ascending=False).reset_index()\n",
    "genre_rate_avg.head()"
   ]
  },
  {
   "cell_type": "code",
   "execution_count": null,
   "metadata": {},
   "outputs": [],
   "source": [
    "ax = plot_bar(genre_rate_avg, x='genre', y='rate_average', title='Rate average by movies genre', rotate=True, annotate=True, ann_format=\"{:.2f}\",\n",
    "              palette='twilight_shifted_d', figsize=(13,6))\n",
    "ax.set_ylim([0, 5])"
   ]
  },
  {
   "cell_type": "code",
   "execution_count": null,
   "metadata": {},
   "outputs": [],
   "source": [
    "fig = ax.get_figure()\n",
    "fig.savefig(os.path.join(VISUALIZATION_DIR, 'rate_avg_by_genre.png'), bbox_inches = \"tight\")"
   ]
  },
  {
   "cell_type": "markdown",
   "metadata": {
    "collapsed": "true"
   },
   "source": [
    "#### __Tags visualization__"
   ]
  },
  {
   "cell_type": "code",
   "execution_count": null,
   "metadata": {},
   "outputs": [],
   "source": [
    "movies_tags = movies[['movieId', 'unique_tag_list', 'unique_tag_amount', 'unique_tag_occurrences', 'users_tags_list', 'users_tags_amount']]\n",
    "movies_tags"
   ]
  },
  {
   "cell_type": "markdown",
   "metadata": {},
   "source": [
    "##### User tags amount distribution per movie"
   ]
  },
  {
   "cell_type": "code",
   "execution_count": null,
   "metadata": {},
   "outputs": [],
   "source": [
    "plt.figure(figsize=(16, 8))\n",
    "ax = sns.distplot(movies_tags['users_tags_amount'], hist=False)\n",
    "xlabels = [f'%.0f k' % x for x in ax.get_xticks()/1_000]\n",
    "ax.set_xticklabels(xlabels)\n",
    "ax.set_title('Distribution of user tags amount per movie')\n",
    "ax"
   ]
  },
  {
   "cell_type": "code",
   "execution_count": null,
   "metadata": {},
   "outputs": [],
   "source": [
    "fig = ax.get_figure()\n",
    "fig.savefig(os.path.join(VISUALIZATION_DIR, 'user_tags_amount_distribution.png'), bbox_inches = \"tight\")"
   ]
  },
  {
   "cell_type": "markdown",
   "metadata": {},
   "source": [
    "##### Frequent tags wordcloud"
   ]
  },
  {
   "cell_type": "code",
   "execution_count": null,
   "metadata": {},
   "outputs": [],
   "source": [
    "tags['tag'].unique().shape"
   ]
  },
  {
   "cell_type": "code",
   "execution_count": null,
   "metadata": {},
   "outputs": [],
   "source": [
    "tags_occur = tags.groupby(by=['tag'])['movieId'].count().sort_values(ascending=False).reset_index()\n",
    "tags_occur = tags_occur.rename(columns={'movieId': 'count'})\n",
    "tags_occur.head()"
   ]
  },
  {
   "cell_type": "code",
   "execution_count": null,
   "metadata": {},
   "outputs": [],
   "source": [
    "tags_dict = dict(zip(tags_occur['tag'], tags_occur['count']))\n",
    "len(tags_dict)"
   ]
  },
  {
   "cell_type": "code",
   "execution_count": null,
   "metadata": {},
   "outputs": [],
   "source": [
    "wc = make_wordcloud(tags_dict, max_words=500, mask_img_path=os.path.join(VISUALIZATION_DIR, 'movie_mask_smaller.png'))\n",
    "\n",
    "plt.figure(figsize=(16,5))\n",
    "plt.imshow(wc, interpolation=\"bilinear\")\n",
    "plt.axis(\"off\")\n",
    "plt.show()"
   ]
  },
  {
   "cell_type": "code",
   "execution_count": null,
   "metadata": {},
   "outputs": [],
   "source": [
    "wc.to_file(os.path.join(VISUALIZATION_DIR, \"movie_tags_wordcloud.png\"))"
   ]
  },
  {
   "cell_type": "markdown",
   "metadata": {},
   "source": [
    "##### Tags by rate"
   ]
  },
  {
   "cell_type": "code",
   "execution_count": null,
   "metadata": {},
   "outputs": [],
   "source": [
    "tag_ratings = pd.merge(tags.drop(['timestamp'], axis=1), ratings.drop(['timestamp'], axis=1), \n",
    "                       how='left', on=['userId', 'movieId'])"
   ]
  },
  {
   "cell_type": "code",
   "execution_count": null,
   "metadata": {},
   "outputs": [],
   "source": [
    "tag_ratings.head()"
   ]
  },
  {
   "cell_type": "code",
   "execution_count": null,
   "metadata": {},
   "outputs": [],
   "source": [
    "tag_ratings.info()"
   ]
  },
  {
   "cell_type": "markdown",
   "metadata": {},
   "source": [
    "Tags without rate"
   ]
  },
  {
   "cell_type": "code",
   "execution_count": null,
   "metadata": {},
   "outputs": [],
   "source": [
    "tag_ratings_nan = tag_ratings[tag_ratings['rating'].isnull()]\n",
    "print('Amount of tags without rate specified: {}'.format(len(tag_ratings_nan.index)))\n",
    "tag_ratings_nan.head()"
   ]
  },
  {
   "cell_type": "code",
   "execution_count": null,
   "metadata": {},
   "outputs": [],
   "source": [
    "tag_ratings_nan.info()"
   ]
  },
  {
   "cell_type": "markdown",
   "metadata": {},
   "source": [
    "Tags with rates"
   ]
  },
  {
   "cell_type": "code",
   "execution_count": null,
   "metadata": {},
   "outputs": [],
   "source": [
    "movie_tags_with_rate = tag_ratings.dropna(subset=['rating'])\n",
    "movie_tags_with_rate.head()"
   ]
  },
  {
   "cell_type": "code",
   "execution_count": null,
   "metadata": {},
   "outputs": [],
   "source": [
    "movie_tags_with_rate.info()"
   ]
  },
  {
   "cell_type": "code",
   "execution_count": null,
   "metadata": {},
   "outputs": [],
   "source": [
    "all_tags_avg_rate = ratings['rating'].mean()\n",
    "all_tags_avg_rate"
   ]
  },
  {
   "cell_type": "code",
   "execution_count": null,
   "metadata": {},
   "outputs": [],
   "source": [
    "m = 500\n",
    "\n",
    "tag_rates_toplist = pd.DataFrame()\n",
    "tag_rates_toplist['mean_rate'] = tags_with_rate.groupby('tag')['rating'].mean()\n",
    "tag_rates_toplist['rate_count'] = tags_with_rate.groupby('tag')['rating'].count()\n",
    "tag_rates_toplist['BE'] = (tag_rates_toplist['rate_count']*tag_rates_toplist['mean_rate']+m*all_tags_avg_rate)/(tag_rates_toplist['rate_count']+m)\n",
    "tag_rates_toplist = tag_rates_toplist.sort_values(by='BE', ascending=False).reset_index()"
   ]
  },
  {
   "cell_type": "code",
   "execution_count": null,
   "metadata": {},
   "outputs": [],
   "source": [
    "tag_rates_toplist.info()"
   ]
  },
  {
   "cell_type": "code",
   "execution_count": null,
   "metadata": {},
   "outputs": [],
   "source": [
    "tag_rates_toplist.head()"
   ]
  },
  {
   "cell_type": "markdown",
   "metadata": {},
   "source": [
    "##### Positive tags wordcloud"
   ]
  },
  {
   "cell_type": "code",
   "execution_count": null,
   "metadata": {},
   "outputs": [],
   "source": [
    "positive_tags_dict = dict(zip(tag_rates_toplist['tag'], tag_rates_toplist['BE']))\n",
    "len(positive_tags_dict)"
   ]
  },
  {
   "cell_type": "code",
   "execution_count": null,
   "metadata": {},
   "outputs": [],
   "source": [
    "wc = make_wordcloud(positive_tags_dict, max_words=100, mask_img_path=os.path.join(VISUALIZATION_DIR, 'happy_face_mask.png'))\n",
    "\n",
    "plt.figure(figsize=(16,5))\n",
    "plt.imshow(wc, interpolation=\"bilinear\")\n",
    "plt.axis(\"off\")\n",
    "plt.show()"
   ]
  },
  {
   "cell_type": "code",
   "execution_count": null,
   "metadata": {},
   "outputs": [],
   "source": [
    "wc.to_file(os.path.join(VISUALIZATION_DIR, \"top_rated_tags_wordcloud.png\"))"
   ]
  },
  {
   "cell_type": "markdown",
   "metadata": {},
   "source": [
    "##### Top lowest rated tags"
   ]
  },
  {
   "cell_type": "markdown",
   "metadata": {},
   "source": [
    "Tags with rates amont above $r=100$"
   ]
  },
  {
   "cell_type": "code",
   "execution_count": null,
   "metadata": {},
   "outputs": [],
   "source": [
    "tags_above_100 = tag_rates_toplist[tag_rates_toplist['rate_count'] > 100].copy(deep=True)\n",
    "tags_above_100['mean_rate'] = 5 - tags_above_100['mean_rate']\n",
    "tags_above_100 = tags_above_100.sort_values(by=['mean_rate'], ascending=False)"
   ]
  },
  {
   "cell_type": "code",
   "execution_count": null,
   "metadata": {},
   "outputs": [],
   "source": [
    "tags_above_100.info()\n",
    "tags_above_500.describe()"
   ]
  },
  {
   "cell_type": "code",
   "execution_count": null,
   "metadata": {},
   "outputs": [],
   "source": [
    "tags_above_100.head(10)"
   ]
  },
  {
   "cell_type": "code",
   "execution_count": null,
   "metadata": {},
   "outputs": [],
   "source": [
    "negative_tags_dict = dict(zip(tags_above_100['tag'], tags_above_100['mean_rate']))\n",
    "len(negative_tags_dict)"
   ]
  },
  {
   "cell_type": "code",
   "execution_count": null,
   "metadata": {},
   "outputs": [],
   "source": [
    "wc = make_wordcloud(negative_tags_dict, max_words=100, mask_img_path=os.path.join(VISUALIZATION_DIR, 'sad_face_mask.png'))\n",
    "\n",
    "plt.figure(figsize=(16,5))\n",
    "plt.imshow(wc, interpolation=\"bilinear\")\n",
    "plt.axis(\"off\")\n",
    "plt.show()"
   ]
  },
  {
   "cell_type": "code",
   "execution_count": null,
   "metadata": {},
   "outputs": [],
   "source": [
    "wc.to_file(os.path.join(VISUALIZATION_DIR, \"lowest_rated_tags_wordcloud.png\"))"
   ]
  },
  {
   "cell_type": "markdown",
   "metadata": {
    "collapsed": "true"
   },
   "source": [
    "#### __Movies amount per original language__"
   ]
  },
  {
   "cell_type": "code",
   "execution_count": null,
   "metadata": {},
   "outputs": [],
   "source": [
    "plt.figure(figsize=(16, 7))\n",
    "\n",
    "min_movies = 30\n",
    "\n",
    "s = metadata.original_language.value_counts()\n",
    "lang = s.where(s>min_movies).dropna().to_dict()\n",
    "lang_keys = list(lang.keys())\n",
    "lang_values = list(lang.values())\n",
    "\n",
    "ax = sns.barplot(x=lang_keys, y=lang_values, palette='viridis')\n",
    "\n",
    "for p in ax.patches:\n",
    "    ax.annotate('{:.0f}'.format(p.get_height()),\n",
    "                xy=(p.get_x() + p.get_width() / 2., p.get_height()),\n",
    "                ha='center', va='center', xytext=(0, 6), textcoords='offset points')\n",
    "\n",
    "ax.set_title(f'Amount of movies per original language (min {min_movies})')\n",
    "ax.set_yscale('log')\n",
    "ax.set_ylabel('movies amount')\n",
    "ax.set_xlabel('original language')"
   ]
  },
  {
   "cell_type": "code",
   "execution_count": null,
   "metadata": {},
   "outputs": [],
   "source": [
    "fig = ax.get_figure()\n",
    "fig.savefig(os.path.join(VISUALIZATION_DIR, 'movie_amount_by_origin_lang.png'), bbox_inches = \"tight\")"
   ]
  },
  {
   "cell_type": "markdown",
   "metadata": {
    "collapsed": "true"
   },
   "source": [
    "#### __Movie runtime distribution__"
   ]
  },
  {
   "cell_type": "code",
   "execution_count": null,
   "metadata": {},
   "outputs": [],
   "source": [
    "plt.figure(figsize=(14, 7))\n",
    "ax = sns.distplot(metadata.runtime.where(metadata.runtime<240).dropna(), kde=False)\n",
    "ax.set_title('Distribution of movies runtime (max 240 min.)')\n",
    "ax.set_ylabel('movies amount')\n",
    "ax.set_xlabel('runtime')"
   ]
  },
  {
   "cell_type": "code",
   "execution_count": null,
   "metadata": {},
   "outputs": [],
   "source": [
    "fig = ax.get_figure()\n",
    "fig.savefig(os.path.join(VISUALIZATION_DIR, 'movie_runtime_distribution.png'), bbox_inches = \"tight\")"
   ]
  }
 ],
 "metadata": {
  "kernelspec": {
   "display_name": "rec-sys",
   "language": "python",
   "name": "rec-sys"
  },
  "language_info": {
   "codemirror_mode": {
    "name": "ipython",
    "version": 3
   },
   "file_extension": ".py",
   "mimetype": "text/x-python",
   "name": "python",
   "nbconvert_exporter": "python",
   "pygments_lexer": "ipython3",
   "version": "3.8.3"
  }
 },
 "nbformat": 4,
 "nbformat_minor": 4
}
