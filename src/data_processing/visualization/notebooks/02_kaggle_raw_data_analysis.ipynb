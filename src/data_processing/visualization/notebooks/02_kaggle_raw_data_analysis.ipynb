{
 "cells": [
  {
   "cell_type": "markdown",
   "metadata": {},
   "source": [
    "# __Kaggle movies data analysis and cleaning__"
   ]
  },
  {
   "cell_type": "markdown",
   "metadata": {
    "collapsed": "true"
   },
   "source": [
    "#### Initial setup"
   ]
  },
  {
   "cell_type": "code",
   "execution_count": null,
   "metadata": {
    "pycharm": {
     "name": "#%%\n"
    }
   },
   "outputs": [],
   "source": [
    "%load_ext watermark\n",
    "%load_ext autoreload"
   ]
  },
  {
   "cell_type": "code",
   "execution_count": null,
   "metadata": {
    "pycharm": {
     "name": "#%%\n"
    }
   },
   "outputs": [],
   "source": [
    "%autoreload 2\n",
    "%watermark -v -n -m -p numpy,pandas,sklego"
   ]
  },
  {
   "cell_type": "code",
   "execution_count": null,
   "metadata": {},
   "outputs": [],
   "source": [
    "import logging\n",
    "\n",
    "logging.basicConfig(level=logging.INFO)"
   ]
  },
  {
   "cell_type": "code",
   "execution_count": null,
   "metadata": {
    "pycharm": {
     "name": "#%%\n"
    }
   },
   "outputs": [],
   "source": [
    "import pandas as pd\n",
    "import numpy as np\n",
    "import sys\n",
    "import os\n",
    "from pandas import option_context\n",
    "from sklego.pandas_utils import log_step\n",
    "from collections import Counter\n",
    "sys.path.append('../../../../')\n",
    "from src.settings import DATA_DIR\n",
    "CURRENT_PATH = os.path.abspath(os.path.join(os.pardir))\n",
    "print(CURRENT_PATH)\n",
    "print(DATA_DIR)"
   ]
  },
  {
   "cell_type": "markdown",
   "metadata": {
    "collapsed": "false"
   },
   "source": [
    "Import functions"
   ]
  },
  {
   "cell_type": "code",
   "execution_count": null,
   "metadata": {},
   "outputs": [],
   "source": [
    "from src.data_processing.dataframe_utils import (drop_unnecessary_cols, rename_cols, reset_index, sort_values, \n",
    "                                                start_pipeline, convert_to_numeric, remove_nan, \n",
    "                                                remove_duplicates, rearrange_cols, insert_nan)\n",
    "from src.data_processing.preprocess.kaggle_data_clean import (clean_credits_data, clean_movie_keywords, prepare_cast_crew_table,\n",
    "                                                            clean_movie_metadata, convert_to_separated_string, merge_movies_metadata_keywords,\n",
    "                                                            prepare_keywords_table, fix_imdbid, extract_values_to_string)"
   ]
  },
  {
   "cell_type": "markdown",
   "metadata": {
    "collapsed": "true"
   },
   "source": [
    "#### Load dataset"
   ]
  },
  {
   "cell_type": "markdown",
   "metadata": {
    "Collapsed": "false"
   },
   "source": [
    "Kaggle films data"
   ]
  },
  {
   "cell_type": "code",
   "execution_count": null,
   "metadata": {
    "Collapsed": "false"
   },
   "outputs": [],
   "source": [
    "movies_metadata = pd.read_csv(os.path.join(DATA_DIR, 'raw', 'kaggle-the-movies', 'movies_metadata.csv'), low_memory=False)\n",
    "credits = pd.read_csv(os.path.join(DATA_DIR, 'raw', 'kaggle-the-movies', 'credits.csv'))\n",
    "movie_keywords = pd.read_csv(os.path.join(DATA_DIR, 'raw', 'kaggle-the-movies', 'keywords.csv'))\n",
    "links_kaggle = pd.read_csv(os.path.join(DATA_DIR, 'raw', 'kaggle-the-movies', 'links.csv'))"
   ]
  },
  {
   "cell_type": "markdown",
   "metadata": {},
   "source": [
    "### __Kaggle data__"
   ]
  },
  {
   "cell_type": "code",
   "execution_count": null,
   "metadata": {},
   "outputs": [],
   "source": [
    "def show_uniq_vals(df):\n",
    "    for col in df:\n",
    "        print(f'{col} - unique values: {np.unique(df[col].dropna().values).shape}, NaN values: {df[col].isna().any()}')"
   ]
  },
  {
   "cell_type": "markdown",
   "metadata": {
    "collapsed": "true"
   },
   "source": [
    "#### __Movie metadata__"
   ]
  },
  {
   "cell_type": "markdown",
   "metadata": {
    "Collapsed": "false"
   },
   "source": [
    "Delete prefix 'tt' from IMDB ids in metadata"
   ]
  },
  {
   "cell_type": "code",
   "execution_count": null,
   "metadata": {
    "Collapsed": "false"
   },
   "outputs": [],
   "source": [
    "with option_context('display.max_column', None):\n",
    "    display(movies_metadata.head(2))"
   ]
  },
  {
   "cell_type": "code",
   "execution_count": null,
   "metadata": {
    "Collapsed": "false"
   },
   "outputs": [],
   "source": [
    "movies_metadata.info()"
   ]
  },
  {
   "cell_type": "markdown",
   "metadata": {
    "Collapsed": "false"
   },
   "source": [
    "Drop unnecessary columns and delete 'tt' from 'imdb_id' string value"
   ]
  },
  {
   "cell_type": "code",
   "execution_count": null,
   "metadata": {
    "Collapsed": "false"
   },
   "outputs": [],
   "source": [
    "drop_cols = ['video', 'poster_path', 'belongs_to_collection', 'popularity', 'homepage',\n",
    "             'vote_count', 'vote_average', 'production_companies', 'production_countries']\n",
    "\n",
    "movie_metadata_cleaned = (movies_metadata\n",
    "                          .pipe(start_pipeline)\n",
    "                          .pipe(drop_unnecessary_cols, drop_cols)\n",
    "                          .pipe(fix_imdbid)\n",
    "                          .pipe(convert_to_separated_string, colname='genres'))"
   ]
  },
  {
   "cell_type": "code",
   "execution_count": null,
   "metadata": {
    "Collapsed": "false"
   },
   "outputs": [],
   "source": [
    "movie_metadata_cleaned.head(2)"
   ]
  },
  {
   "cell_type": "code",
   "execution_count": null,
   "metadata": {
    "Collapsed": "false"
   },
   "outputs": [],
   "source": [
    "movie_metadata_cleaned.info()"
   ]
  },
  {
   "cell_type": "code",
   "execution_count": null,
   "metadata": {
    "Collapsed": "false"
   },
   "outputs": [],
   "source": [
    "movie_metadata_cleaned[movie_metadata_cleaned.overview.isin(['No overview found.', 'No movie overview available.'])].head(2)"
   ]
  },
  {
   "cell_type": "code",
   "execution_count": null,
   "metadata": {
    "Collapsed": "false"
   },
   "outputs": [],
   "source": [
    "movie_metadata_cleaned = (movie_metadata_cleaned\n",
    "                          .pipe(insert_nan, ['No overview found.', 'No movie overview available.']))"
   ]
  },
  {
   "cell_type": "code",
   "execution_count": null,
   "metadata": {
    "Collapsed": "false"
   },
   "outputs": [],
   "source": [
    "movie_metadata_cleaned[movie_metadata_cleaned.overview.isin(['No overview found.', 'No movie overview available.'])].head()"
   ]
  },
  {
   "cell_type": "markdown",
   "metadata": {
    "Collapsed": "false"
   },
   "source": [
    "Cast ids to numeric type and clean NaN"
   ]
  },
  {
   "cell_type": "code",
   "execution_count": null,
   "metadata": {
    "Collapsed": "false"
   },
   "outputs": [],
   "source": [
    "cols_to_numeric = ['id', 'imdb_id']\n",
    "\n",
    "movie_metadata_cleaned = (movie_metadata_cleaned\n",
    "                          .pipe(convert_to_numeric, cols_to_numeric)\n",
    "                          .pipe(remove_nan, cols_to_numeric))"
   ]
  },
  {
   "cell_type": "code",
   "execution_count": null,
   "metadata": {
    "Collapsed": "false"
   },
   "outputs": [],
   "source": [
    "movie_metadata_cleaned.info()"
   ]
  },
  {
   "cell_type": "code",
   "execution_count": null,
   "metadata": {
    "Collapsed": "false"
   },
   "outputs": [],
   "source": [
    "movie_metadata_cleaned[movie_metadata_cleaned['imdb_id'].isnull()]"
   ]
  },
  {
   "cell_type": "code",
   "execution_count": null,
   "metadata": {
    "Collapsed": "false"
   },
   "outputs": [],
   "source": [
    "movie_metadata_cleaned[movie_metadata_cleaned['id'].isnull()]"
   ]
  },
  {
   "cell_type": "markdown",
   "metadata": {
    "Collapsed": "false"
   },
   "source": [
    "Drop rows with __duplicated 'imdb_id'__ value"
   ]
  },
  {
   "cell_type": "code",
   "execution_count": null,
   "metadata": {
    "Collapsed": "false"
   },
   "outputs": [],
   "source": [
    "print('Amount of films by IMDB id in kaggle metadata info: {}'.format(movie_metadata_cleaned.imdb_id.unique().size))"
   ]
  },
  {
   "cell_type": "code",
   "execution_count": null,
   "metadata": {
    "Collapsed": "false"
   },
   "outputs": [],
   "source": [
    "imdb_counter = Counter(movie_metadata_cleaned.imdb_id.values)\n",
    "films_imdb_repeated = [(val, count) for (val, count) in imdb_counter.most_common() if count > 1]\n",
    "print(films_imdb_repeated)\n",
    "print(\"------------------------------------\")\n",
    "print('Repeated films by IMDB id amount: {}'.format(len(films_imdb_repeated)))"
   ]
  },
  {
   "cell_type": "markdown",
   "metadata": {
    "Collapsed": "false"
   },
   "source": [
    "Repeated films examples"
   ]
  },
  {
   "cell_type": "code",
   "execution_count": null,
   "metadata": {
    "Collapsed": "false"
   },
   "outputs": [],
   "source": [
    "repeated_imdb_metadata = movie_metadata_cleaned[movie_metadata_cleaned.duplicated(subset=['imdb_id'], keep=False)].copy(deep=True)\n",
    "repeated_imdb_metadata.sort_values(by=['imdb_id'], inplace=True)\n",
    "\n",
    "with option_context('display.max_column', None):\n",
    "    display(repeated_imdb_metadata.head(4))"
   ]
  },
  {
   "cell_type": "code",
   "execution_count": null,
   "metadata": {
    "Collapsed": "false"
   },
   "outputs": [],
   "source": [
    "drop_nan_cols = ['id', 'imdb_id']\n",
    "rename_dict = {\"id\": \"kaggle_id\"}\n",
    "sort_cols = ['kaggle_id']\n",
    "\n",
    "movie_metadata_cleaned = (movie_metadata_cleaned\n",
    "                          .pipe(remove_duplicates, drop_nan_cols)\n",
    "                          .pipe(rename_cols, rename_dict)\n",
    "                          .pipe(sort_values, sort_cols)\n",
    "                          .pipe(reset_index))"
   ]
  },
  {
   "cell_type": "code",
   "execution_count": null,
   "metadata": {
    "Collapsed": "false"
   },
   "outputs": [],
   "source": [
    "print('Amount of films by IMDB id after data cleaning: {}'.format(len(movie_metadata_cleaned)))"
   ]
  },
  {
   "cell_type": "code",
   "execution_count": null,
   "metadata": {
    "Collapsed": "false"
   },
   "outputs": [],
   "source": [
    "movie_metadata_cleaned[movie_metadata_cleaned.duplicated(subset=['imdb_id', 'kaggle_id'], keep=False)].copy(deep=True)"
   ]
  },
  {
   "cell_type": "code",
   "execution_count": null,
   "metadata": {
    "Collapsed": "false"
   },
   "outputs": [],
   "source": [
    "movie_metadata_cleaned.head(2)"
   ]
  },
  {
   "cell_type": "code",
   "execution_count": null,
   "metadata": {
    "Collapsed": "false"
   },
   "outputs": [],
   "source": [
    "movie_metadata_cleaned.info()\n",
    "movie_metadata_cleaned.describe()"
   ]
  },
  {
   "cell_type": "code",
   "execution_count": null,
   "metadata": {
    "Collapsed": "false"
   },
   "outputs": [],
   "source": [
    "show_uniq_vals(movie_metadata_cleaned)"
   ]
  },
  {
   "cell_type": "markdown",
   "metadata": {
    "collapsed": "true"
   },
   "source": [
    "#### __Credits__"
   ]
  },
  {
   "cell_type": "code",
   "execution_count": null,
   "metadata": {
    "Collapsed": "false"
   },
   "outputs": [],
   "source": [
    "with option_context('display.max_colwidth', 400):\n",
    "    display(credits.head(2))"
   ]
  },
  {
   "cell_type": "code",
   "execution_count": null,
   "metadata": {
    "Collapsed": "false"
   },
   "outputs": [],
   "source": [
    "credits.info()"
   ]
  },
  {
   "cell_type": "markdown",
   "metadata": {
    "Collapsed": "false"
   },
   "source": [
    "Film ids are repeated in credits.csv"
   ]
  },
  {
   "cell_type": "code",
   "execution_count": null,
   "metadata": {
    "Collapsed": "false"
   },
   "outputs": [],
   "source": [
    "credits_counter = Counter(credits.id.values)\n",
    "credits_ids_repeated = [(val, count) for (val, count) in credits_counter.most_common() if count > 1]\n",
    "print(credits_ids_repeated)"
   ]
  },
  {
   "cell_type": "code",
   "execution_count": null,
   "metadata": {
    "Collapsed": "false"
   },
   "outputs": [],
   "source": [
    "repeated_credit_rows = credits[credits.duplicated(subset=['id'], keep=False)].copy(deep=True)\n",
    "repeated_credit_rows.sort_values(by=\"id\", inplace=True)\n",
    "\n",
    "with option_context('display.max_colwidth', 400):\n",
    "    display(repeated_credit_rows.head(4))"
   ]
  },
  {
   "cell_type": "markdown",
   "metadata": {
    "Collapsed": "false"
   },
   "source": [
    "Clean credits data from duplicates"
   ]
  },
  {
   "cell_type": "code",
   "execution_count": null,
   "metadata": {
    "Collapsed": "false"
   },
   "outputs": [],
   "source": [
    "duplicated_cols = ['id']\n",
    "rename_dict = {\"id\": \"kaggle_id\"}\n",
    "order_cols = ['kaggle_id', 'cast', 'crew']\n",
    "\n",
    "credits_cleaned = (credits\n",
    "                   .pipe(start_pipeline)\n",
    "                   .pipe(clean_credits_data, duplicated_cols, rename_dict, sort_cols,order_cols))"
   ]
  },
  {
   "cell_type": "code",
   "execution_count": null,
   "metadata": {
    "Collapsed": "false"
   },
   "outputs": [],
   "source": [
    "credits_cleaned.info()"
   ]
  },
  {
   "cell_type": "code",
   "execution_count": null,
   "metadata": {
    "Collapsed": "false"
   },
   "outputs": [],
   "source": [
    "show_uniq_vals(credits_cleaned)"
   ]
  },
  {
   "cell_type": "code",
   "execution_count": null,
   "metadata": {
    "Collapsed": "false"
   },
   "outputs": [],
   "source": [
    "credits_cleaned[credits_cleaned.duplicated(subset=['kaggle_id'], keep=False)].head()"
   ]
  },
  {
   "cell_type": "code",
   "execution_count": null,
   "metadata": {
    "Collapsed": "false"
   },
   "outputs": [],
   "source": [
    "credits_cleaned.isnull().values.any()"
   ]
  },
  {
   "cell_type": "markdown",
   "metadata": {
    "collapsed": "true"
   },
   "source": [
    "#### __Keywords__"
   ]
  },
  {
   "cell_type": "code",
   "execution_count": null,
   "metadata": {
    "Collapsed": "false"
   },
   "outputs": [],
   "source": [
    "with option_context('display.max_colwidth', 400):\n",
    "    display(movie_keywords.head())"
   ]
  },
  {
   "cell_type": "code",
   "execution_count": null,
   "metadata": {
    "Collapsed": "false"
   },
   "outputs": [],
   "source": [
    "movie_keywords.info()"
   ]
  },
  {
   "cell_type": "code",
   "execution_count": null,
   "metadata": {
    "Collapsed": "false"
   },
   "outputs": [],
   "source": [
    "movie_keywords[movie_keywords.duplicated(subset=['id'], keep=False)].head()"
   ]
  },
  {
   "cell_type": "markdown",
   "metadata": {
    "Collapsed": "false"
   },
   "source": [
    "Clean keywords data from blank tags list ('[]') and duplicated movies by id"
   ]
  },
  {
   "cell_type": "code",
   "execution_count": null,
   "metadata": {
    "Collapsed": "false"
   },
   "outputs": [],
   "source": [
    "drop_rows_idx = movie_keywords.index[movie_keywords.keywords == '[]']\n",
    "duplicated_cols = ['id']\n",
    "rename_dict = {\"id\": \"kaggle_id\"}\n",
    "sort_cols = [\"kaggle_id\"]\n",
    "\n",
    "movie_keywords_cleaned = (movie_keywords\n",
    "                          .pipe(start_pipeline)\n",
    "                          .pipe(clean_movie_keywords, drop_rows_idx, duplicated_cols, rename_dict,\n",
    "                                sort_cols))"
   ]
  },
  {
   "cell_type": "code",
   "execution_count": null,
   "metadata": {
    "Collapsed": "false"
   },
   "outputs": [],
   "source": [
    "movie_keywords_cleaned.info()"
   ]
  },
  {
   "cell_type": "code",
   "execution_count": null,
   "metadata": {
    "Collapsed": "false"
   },
   "outputs": [],
   "source": [
    "show_uniq_vals(movie_keywords_cleaned)"
   ]
  },
  {
   "cell_type": "code",
   "execution_count": null,
   "metadata": {
    "Collapsed": "false"
   },
   "outputs": [],
   "source": [
    "movie_keywords_cleaned.isnull().values.any()"
   ]
  },
  {
   "cell_type": "markdown",
   "metadata": {
    "Collapsed": "false"
   },
   "source": [
    "Extracting plot keywords genome table"
   ]
  },
  {
   "cell_type": "code",
   "execution_count": null,
   "metadata": {
    "Collapsed": "false"
   },
   "outputs": [],
   "source": [
    "rename_tag_dict = {\"id\": \"keyword_id\", \"keywords\": \"plot_keywords\"}\n",
    "sort_tag_cols = ['keyword_id']\n",
    "\n",
    "plot_keywords_genome = (movie_keywords_cleaned\n",
    "                        .pipe(start_pipeline)\n",
    "                        .pipe(prepare_keywords_table)\n",
    "                        .pipe(rename_cols, rename_tag_dict)\n",
    "                        .pipe(sort_values, sort_tag_cols)\n",
    "                        .pipe(reset_index))"
   ]
  },
  {
   "cell_type": "code",
   "execution_count": null,
   "metadata": {
    "Collapsed": "false"
   },
   "outputs": [],
   "source": [
    "plot_keywords_genome.head()"
   ]
  },
  {
   "cell_type": "code",
   "execution_count": null,
   "metadata": {
    "Collapsed": "false"
   },
   "outputs": [],
   "source": [
    "plot_keywords_genome.info()"
   ]
  },
  {
   "cell_type": "markdown",
   "metadata": {
    "Collapsed": "false"
   },
   "source": [
    "Change format of plot keywords in movie_keywords kaggle table"
   ]
  },
  {
   "cell_type": "code",
   "execution_count": null,
   "metadata": {
    "Collapsed": "false"
   },
   "outputs": [],
   "source": [
    "movie_keywords_cleaned = (movie_keywords_cleaned\n",
    "                          .pipe(convert_to_separated_string, colname='keywords'))"
   ]
  },
  {
   "cell_type": "code",
   "execution_count": null,
   "metadata": {
    "Collapsed": "false"
   },
   "outputs": [],
   "source": [
    "with option_context('display.max_colwidth', 400):\n",
    "    display(movie_keywords_cleaned.head())"
   ]
  },
  {
   "cell_type": "code",
   "execution_count": null,
   "metadata": {
    "Collapsed": "false"
   },
   "outputs": [],
   "source": [
    "movie_keywords_cleaned.info()"
   ]
  },
  {
   "cell_type": "markdown",
   "metadata": {
    "collapsed": "true"
   },
   "source": [
    "#### __Links kaggle__"
   ]
  },
  {
   "cell_type": "markdown",
   "metadata": {
    "Collapsed": "false"
   },
   "source": [
    "Links kaggle file apply to MovieLens dataset links. 'MovieId' is the same 'movieId' in MovieLens links.csv."
   ]
  },
  {
   "cell_type": "code",
   "execution_count": null,
   "metadata": {
    "Collapsed": "false"
   },
   "outputs": [],
   "source": [
    "links_kaggle.head()"
   ]
  },
  {
   "cell_type": "code",
   "execution_count": null,
   "metadata": {
    "Collapsed": "false"
   },
   "outputs": [],
   "source": [
    "links_kaggle.info()"
   ]
  },
  {
   "cell_type": "code",
   "execution_count": null,
   "metadata": {
    "Collapsed": "false"
   },
   "outputs": [],
   "source": [
    "show_uniq_vals(links_kaggle)"
   ]
  },
  {
   "cell_type": "code",
   "execution_count": null,
   "metadata": {
    "Collapsed": "false"
   },
   "outputs": [],
   "source": [
    "print('Amount of unique imdb ids in kaggle links.csv data: {}'.format(len(links_kaggle['imdbId'].unique())))"
   ]
  },
  {
   "cell_type": "code",
   "execution_count": null,
   "metadata": {
    "Collapsed": "false"
   },
   "outputs": [],
   "source": [
    "links_kaggle[links_kaggle.duplicated(subset=['movieId', 'imdbId'], keep=False)]"
   ]
  },
  {
   "cell_type": "code",
   "execution_count": null,
   "metadata": {
    "Collapsed": "false"
   },
   "outputs": [],
   "source": [
    "links_kaggle.isnull().values.any()"
   ]
  },
  {
   "cell_type": "code",
   "execution_count": null,
   "metadata": {
    "Collapsed": "false"
   },
   "outputs": [],
   "source": [
    "drop_cols = ['tmdbId']\n",
    "links_cleaned = (links_kaggle\n",
    "                 .pipe(start_pipeline)\n",
    "                 .pipe(drop_unnecessary_cols, drop_cols)\n",
    "                 .pipe(reset_index))"
   ]
  },
  {
   "cell_type": "code",
   "execution_count": null,
   "metadata": {
    "Collapsed": "false"
   },
   "outputs": [],
   "source": [
    "links_cleaned.info()"
   ]
  },
  {
   "cell_type": "code",
   "execution_count": null,
   "metadata": {
    "Collapsed": "false"
   },
   "outputs": [],
   "source": [
    "links_cleaned[links_cleaned.isna().any(axis=1)].head()"
   ]
  },
  {
   "cell_type": "markdown",
   "metadata": {
    "collapsed": "true"
   },
   "source": [
    "#### __Prepare main movie kaggle data__"
   ]
  },
  {
   "cell_type": "markdown",
   "metadata": {
    "Collapsed": "false"
   },
   "source": [
    "Prepare cast-crew movie table"
   ]
  },
  {
   "cell_type": "code",
   "execution_count": null,
   "metadata": {
    "Collapsed": "false"
   },
   "outputs": [],
   "source": [
    "cast_crew_movies = (credits_cleaned\n",
    "                    .pipe(start_pipeline)\n",
    "                    .pipe(prepare_cast_crew_table))"
   ]
  },
  {
   "cell_type": "code",
   "execution_count": null,
   "metadata": {
    "Collapsed": "false"
   },
   "outputs": [],
   "source": [
    "cast_crew_movies.head()"
   ]
  },
  {
   "cell_type": "code",
   "execution_count": null,
   "metadata": {
    "Collapsed": "false"
   },
   "outputs": [],
   "source": [
    "cast_crew_movies.info()"
   ]
  },
  {
   "cell_type": "code",
   "execution_count": null,
   "metadata": {
    "Collapsed": "false"
   },
   "outputs": [],
   "source": [
    "show_uniq_vals(cast_crew_movies)"
   ]
  },
  {
   "cell_type": "code",
   "execution_count": null,
   "metadata": {
    "Collapsed": "false"
   },
   "outputs": [],
   "source": [
    "cast_crew_movies[cast_crew_movies.duplicated(subset=['kaggle_id'], keep=False)]"
   ]
  },
  {
   "cell_type": "markdown",
   "metadata": {
    "Collapsed": "false"
   },
   "source": [
    "Merge cast_crew table with movie metadata table"
   ]
  },
  {
   "cell_type": "code",
   "execution_count": null,
   "metadata": {
    "Collapsed": "false"
   },
   "outputs": [],
   "source": [
    "rename_dict = {\"overview\": \"storyline\", \"keywords\": \"plot_keywords\"}\n",
    "cols_order = ['kaggle_id', 'title', 'original_title', 'genres', 'directors', 'writers', \n",
    "              'actors', 'storyline', 'tagline', \"plot_keywords\"]\n",
    "\n",
    "main_movie_table = (cast_crew_movies\n",
    "                    .pipe(start_pipeline)\n",
    "                    .pipe(merge_movies_metadata_keywords, movie_metadata_cleaned,\n",
    "                          movie_keywords_cleaned)\n",
    "                    .pipe(rename_cols, rename_dict)\n",
    "                    .pipe(rearrange_cols, cols_order)\n",
    "                    .pipe(reset_index))"
   ]
  },
  {
   "cell_type": "code",
   "execution_count": null,
   "metadata": {
    "Collapsed": "false"
   },
   "outputs": [],
   "source": [
    "main_movie_table.head(4)"
   ]
  },
  {
   "cell_type": "code",
   "execution_count": null,
   "metadata": {
    "Collapsed": "false"
   },
   "outputs": [],
   "source": [
    "main_movie_table.info()"
   ]
  },
  {
   "cell_type": "code",
   "execution_count": null,
   "metadata": {
    "Collapsed": "false"
   },
   "outputs": [],
   "source": [
    "show_uniq_vals(main_movie_table)"
   ]
  }
 ],
 "metadata": {
  "kernelspec": {
   "display_name": "rec-sys",
   "language": "python",
   "name": "rec-sys"
  },
  "language_info": {
   "codemirror_mode": {
    "name": "ipython",
    "version": 3
   },
   "file_extension": ".py",
   "mimetype": "text/x-python",
   "name": "python",
   "nbconvert_exporter": "python",
   "pygments_lexer": "ipython3",
   "version": "3.8.3"
  },
  "pycharm": {
   "stem_cell": {
    "cell_type": "raw",
    "metadata": {
     "collapsed": false
    },
    "source": []
   }
  }
 },
 "nbformat": 4,
 "nbformat_minor": 4
}
